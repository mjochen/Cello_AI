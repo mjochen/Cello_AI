{
 "cells": [
  {
   "cell_type": "markdown",
   "metadata": {},
   "source": [
    "# Install PyCaret\n",
    "\n",
    "Normally speaking we wouldn't be creating a new notebook for this as it would boil down to \"pip install pycaret\". The problem is that pycaret doesn't always work with the latest version of Python. That means it may be neccesary to create a new virtual environment after installing an older version of Python.\n",
    "\n",
    "When installing the older version of Python, make sure to **not** add it to the path, as that may overwrite your newer Python-version.\n",
    "\n",
    "First step, open up a terminal and run\n",
    "\n",
    "```Shell\n",
    "python --version\n",
    "```\n",
    "Now check if this version is on [this](https://pycaret.gitbook.io/docs/get-started/installation) webpage.\n",
    "\n",
    "If it isn't first install an older Python version and keep track of the installation location as we'll need that to create a venv with that older version.\n",
    "\n",
    "Go back to your terminal and create a new venv in the working folder of this course.\n",
    "```Shell\n",
    ".\"C:\\Program Files\\Python311\\python.exe\" -m venv venv_pycaret\n",
    "```\n",
    "\n",
    "This will create a new venv in this folder, called \"venv_pycaret\". Make sure to select it when running the following cell."
   ]
  },
  {
   "cell_type": "code",
   "execution_count": 1,
   "metadata": {},
   "outputs": [
    {
     "name": "stdout",
     "output_type": "stream",
     "text": [
      "Requirement already satisfied: pandas in c:\\scripts\\cello_ai\\venv_pycaret\\lib\\site-packages (2.1.4)\n",
      "Requirement already satisfied: matplotlib in c:\\scripts\\cello_ai\\venv_pycaret\\lib\\site-packages (3.7.5)\n",
      "Requirement already satisfied: numpy in c:\\scripts\\cello_ai\\venv_pycaret\\lib\\site-packages (1.26.4)\n",
      "Requirement already satisfied: python-dateutil>=2.8.2 in c:\\scripts\\cello_ai\\venv_pycaret\\lib\\site-packages (from pandas) (2.9.0.post0)\n",
      "Requirement already satisfied: pytz>=2020.1 in c:\\scripts\\cello_ai\\venv_pycaret\\lib\\site-packages (from pandas) (2024.1)\n",
      "Requirement already satisfied: tzdata>=2022.1 in c:\\scripts\\cello_ai\\venv_pycaret\\lib\\site-packages (from pandas) (2024.1)\n",
      "Requirement already satisfied: contourpy>=1.0.1 in c:\\scripts\\cello_ai\\venv_pycaret\\lib\\site-packages (from matplotlib) (1.2.1)\n",
      "Requirement already satisfied: cycler>=0.10 in c:\\scripts\\cello_ai\\venv_pycaret\\lib\\site-packages (from matplotlib) (0.12.1)\n",
      "Requirement already satisfied: fonttools>=4.22.0 in c:\\scripts\\cello_ai\\venv_pycaret\\lib\\site-packages (from matplotlib) (4.51.0)\n",
      "Requirement already satisfied: kiwisolver>=1.0.1 in c:\\scripts\\cello_ai\\venv_pycaret\\lib\\site-packages (from matplotlib) (1.4.5)\n",
      "Requirement already satisfied: packaging>=20.0 in c:\\scripts\\cello_ai\\venv_pycaret\\lib\\site-packages (from matplotlib) (24.0)\n",
      "Requirement already satisfied: pillow>=6.2.0 in c:\\scripts\\cello_ai\\venv_pycaret\\lib\\site-packages (from matplotlib) (10.3.0)\n",
      "Requirement already satisfied: pyparsing>=2.3.1 in c:\\scripts\\cello_ai\\venv_pycaret\\lib\\site-packages (from matplotlib) (3.1.2)\n",
      "Requirement already satisfied: six>=1.5 in c:\\scripts\\cello_ai\\venv_pycaret\\lib\\site-packages (from python-dateutil>=2.8.2->pandas) (1.16.0)\n"
     ]
    },
    {
     "name": "stderr",
     "output_type": "stream",
     "text": [
      "\n",
      "[notice] A new release of pip is available: 23.2.1 -> 24.0\n",
      "[notice] To update, run: python.exe -m pip install --upgrade pip\n"
     ]
    },
    {
     "name": "stdout",
     "output_type": "stream",
     "text": [
      "Collecting openpyxl\n",
      "  Obtaining dependency information for openpyxl from https://files.pythonhosted.org/packages/6a/94/a59521de836ef0da54aaf50da6c4da8fb4072fb3053fa71f052fd9399e7a/openpyxl-3.1.2-py2.py3-none-any.whl.metadata\n",
      "  Downloading openpyxl-3.1.2-py2.py3-none-any.whl.metadata (2.5 kB)\n",
      "Collecting et-xmlfile (from openpyxl)\n",
      "  Obtaining dependency information for et-xmlfile from https://files.pythonhosted.org/packages/96/c2/3dd434b0108730014f1b96fd286040dc3bcb70066346f7e01ec2ac95865f/et_xmlfile-1.1.0-py3-none-any.whl.metadata\n",
      "  Downloading et_xmlfile-1.1.0-py3-none-any.whl.metadata (1.8 kB)\n",
      "Using cached openpyxl-3.1.2-py2.py3-none-any.whl (249 kB)\n",
      "Using cached et_xmlfile-1.1.0-py3-none-any.whl (4.7 kB)\n",
      "Installing collected packages: et-xmlfile, openpyxl\n",
      "Successfully installed et-xmlfile-1.1.0 openpyxl-3.1.2\n"
     ]
    },
    {
     "name": "stderr",
     "output_type": "stream",
     "text": [
      "\n",
      "[notice] A new release of pip is available: 23.2.1 -> 24.0\n",
      "[notice] To update, run: python.exe -m pip install --upgrade pip\n"
     ]
    },
    {
     "name": "stdout",
     "output_type": "stream",
     "text": [
      "Requirement already satisfied: pycaret in c:\\scripts\\cello_ai\\venv_pycaret\\lib\\site-packages (3.3.1)\n",
      "Requirement already satisfied: category-encoders>=2.4.0 in c:\\scripts\\cello_ai\\venv_pycaret\\lib\\site-packages (from pycaret) (2.6.3)\n",
      "Requirement already satisfied: cloudpickle in c:\\scripts\\cello_ai\\venv_pycaret\\lib\\site-packages (from pycaret) (3.0.0)\n",
      "Requirement already satisfied: deprecation>=2.1.0 in c:\\scripts\\cello_ai\\venv_pycaret\\lib\\site-packages (from pycaret) (2.1.0)\n",
      "Requirement already satisfied: imbalanced-learn>=0.12.0 in c:\\scripts\\cello_ai\\venv_pycaret\\lib\\site-packages (from pycaret) (0.12.2)\n",
      "Requirement already satisfied: importlib-metadata>=4.12.0 in c:\\scripts\\cello_ai\\venv_pycaret\\lib\\site-packages (from pycaret) (7.1.0)\n",
      "Requirement already satisfied: ipython>=5.5.0 in c:\\scripts\\cello_ai\\venv_pycaret\\lib\\site-packages (from pycaret) (8.23.0)\n",
      "Requirement already satisfied: ipywidgets>=7.6.5 in c:\\scripts\\cello_ai\\venv_pycaret\\lib\\site-packages (from pycaret) (8.1.2)\n",
      "Requirement already satisfied: jinja2>=3 in c:\\scripts\\cello_ai\\venv_pycaret\\lib\\site-packages (from pycaret) (3.1.3)\n",
      "Requirement already satisfied: joblib<1.4,>=1.2.0 in c:\\scripts\\cello_ai\\venv_pycaret\\lib\\site-packages (from pycaret) (1.3.2)\n",
      "Requirement already satisfied: kaleido>=0.2.1 in c:\\scripts\\cello_ai\\venv_pycaret\\lib\\site-packages (from pycaret) (0.2.1)\n",
      "Requirement already satisfied: lightgbm>=3.0.0 in c:\\scripts\\cello_ai\\venv_pycaret\\lib\\site-packages (from pycaret) (4.3.0)\n",
      "Requirement already satisfied: markupsafe>=2.0.1 in c:\\scripts\\cello_ai\\venv_pycaret\\lib\\site-packages (from pycaret) (2.1.5)\n",
      "Requirement already satisfied: matplotlib<3.8.0 in c:\\scripts\\cello_ai\\venv_pycaret\\lib\\site-packages (from pycaret) (3.7.5)\n",
      "Requirement already satisfied: nbformat>=4.2.0 in c:\\scripts\\cello_ai\\venv_pycaret\\lib\\site-packages (from pycaret) (5.10.4)\n",
      "Requirement already satisfied: numba>=0.55.0 in c:\\scripts\\cello_ai\\venv_pycaret\\lib\\site-packages (from pycaret) (0.59.1)\n",
      "Requirement already satisfied: numpy<1.27,>=1.21 in c:\\scripts\\cello_ai\\venv_pycaret\\lib\\site-packages (from pycaret) (1.26.4)\n",
      "Requirement already satisfied: pandas<2.2.0 in c:\\scripts\\cello_ai\\venv_pycaret\\lib\\site-packages (from pycaret) (2.1.4)\n",
      "Requirement already satisfied: plotly-resampler>=0.8.3.1 in c:\\scripts\\cello_ai\\venv_pycaret\\lib\\site-packages (from pycaret) (0.10.0)\n",
      "Requirement already satisfied: plotly>=5.14.0 in c:\\scripts\\cello_ai\\venv_pycaret\\lib\\site-packages (from pycaret) (5.21.0)\n",
      "Requirement already satisfied: pmdarima>=2.0.4 in c:\\scripts\\cello_ai\\venv_pycaret\\lib\\site-packages (from pycaret) (2.0.4)\n",
      "Requirement already satisfied: psutil>=5.9.0 in c:\\scripts\\cello_ai\\venv_pycaret\\lib\\site-packages (from pycaret) (5.9.8)\n",
      "Requirement already satisfied: pyod>=1.1.3 in c:\\scripts\\cello_ai\\venv_pycaret\\lib\\site-packages (from pycaret) (1.1.3)\n",
      "Requirement already satisfied: requests>=2.27.1 in c:\\scripts\\cello_ai\\venv_pycaret\\lib\\site-packages (from pycaret) (2.31.0)\n",
      "Requirement already satisfied: schemdraw==0.15 in c:\\scripts\\cello_ai\\venv_pycaret\\lib\\site-packages (from pycaret) (0.15)\n",
      "Requirement already satisfied: scikit-learn>1.4.0 in c:\\scripts\\cello_ai\\venv_pycaret\\lib\\site-packages (from pycaret) (1.4.2)\n",
      "Requirement already satisfied: scikit-plot>=0.3.7 in c:\\scripts\\cello_ai\\venv_pycaret\\lib\\site-packages (from pycaret) (0.3.7)\n",
      "Requirement already satisfied: scipy<=1.11.4,>=1.6.1 in c:\\scripts\\cello_ai\\venv_pycaret\\lib\\site-packages (from pycaret) (1.11.4)\n",
      "Requirement already satisfied: sktime==0.26.0 in c:\\scripts\\cello_ai\\venv_pycaret\\lib\\site-packages (from pycaret) (0.26.0)\n",
      "Requirement already satisfied: statsmodels>=0.12.1 in c:\\scripts\\cello_ai\\venv_pycaret\\lib\\site-packages (from pycaret) (0.14.2)\n",
      "Requirement already satisfied: tbats>=1.1.3 in c:\\scripts\\cello_ai\\venv_pycaret\\lib\\site-packages (from pycaret) (1.1.3)\n",
      "Requirement already satisfied: tqdm>=4.62.0 in c:\\scripts\\cello_ai\\venv_pycaret\\lib\\site-packages (from pycaret) (4.66.2)\n",
      "Requirement already satisfied: xxhash in c:\\scripts\\cello_ai\\venv_pycaret\\lib\\site-packages (from pycaret) (3.4.1)\n",
      "Requirement already satisfied: yellowbrick>=1.4 in c:\\scripts\\cello_ai\\venv_pycaret\\lib\\site-packages (from pycaret) (1.5)\n",
      "Requirement already satisfied: packaging in c:\\scripts\\cello_ai\\venv_pycaret\\lib\\site-packages (from sktime==0.26.0->pycaret) (24.0)\n",
      "Requirement already satisfied: scikit-base<0.8.0 in c:\\scripts\\cello_ai\\venv_pycaret\\lib\\site-packages (from sktime==0.26.0->pycaret) (0.7.7)\n",
      "Requirement already satisfied: patsy>=0.5.1 in c:\\scripts\\cello_ai\\venv_pycaret\\lib\\site-packages (from category-encoders>=2.4.0->pycaret) (0.5.6)\n",
      "Requirement already satisfied: threadpoolctl>=2.0.0 in c:\\scripts\\cello_ai\\venv_pycaret\\lib\\site-packages (from imbalanced-learn>=0.12.0->pycaret) (3.4.0)\n",
      "Requirement already satisfied: zipp>=0.5 in c:\\scripts\\cello_ai\\venv_pycaret\\lib\\site-packages (from importlib-metadata>=4.12.0->pycaret) (3.18.1)\n",
      "Requirement already satisfied: decorator in c:\\scripts\\cello_ai\\venv_pycaret\\lib\\site-packages (from ipython>=5.5.0->pycaret) (5.1.1)\n",
      "Requirement already satisfied: jedi>=0.16 in c:\\scripts\\cello_ai\\venv_pycaret\\lib\\site-packages (from ipython>=5.5.0->pycaret) (0.19.1)\n",
      "Requirement already satisfied: matplotlib-inline in c:\\scripts\\cello_ai\\venv_pycaret\\lib\\site-packages (from ipython>=5.5.0->pycaret) (0.1.7)\n",
      "Requirement already satisfied: prompt-toolkit<3.1.0,>=3.0.41 in c:\\scripts\\cello_ai\\venv_pycaret\\lib\\site-packages (from ipython>=5.5.0->pycaret) (3.0.43)\n",
      "Requirement already satisfied: pygments>=2.4.0 in c:\\scripts\\cello_ai\\venv_pycaret\\lib\\site-packages (from ipython>=5.5.0->pycaret) (2.17.2)\n",
      "Requirement already satisfied: stack-data in c:\\scripts\\cello_ai\\venv_pycaret\\lib\\site-packages (from ipython>=5.5.0->pycaret) (0.6.3)\n",
      "Requirement already satisfied: traitlets>=5.13.0 in c:\\scripts\\cello_ai\\venv_pycaret\\lib\\site-packages (from ipython>=5.5.0->pycaret) (5.14.2)\n",
      "Requirement already satisfied: typing-extensions in c:\\scripts\\cello_ai\\venv_pycaret\\lib\\site-packages (from ipython>=5.5.0->pycaret) (4.11.0)\n",
      "Requirement already satisfied: colorama in c:\\scripts\\cello_ai\\venv_pycaret\\lib\\site-packages (from ipython>=5.5.0->pycaret) (0.4.6)\n",
      "Requirement already satisfied: comm>=0.1.3 in c:\\scripts\\cello_ai\\venv_pycaret\\lib\\site-packages (from ipywidgets>=7.6.5->pycaret) (0.2.2)\n",
      "Requirement already satisfied: widgetsnbextension~=4.0.10 in c:\\scripts\\cello_ai\\venv_pycaret\\lib\\site-packages (from ipywidgets>=7.6.5->pycaret) (4.0.10)\n",
      "Requirement already satisfied: jupyterlab-widgets~=3.0.10 in c:\\scripts\\cello_ai\\venv_pycaret\\lib\\site-packages (from ipywidgets>=7.6.5->pycaret) (3.0.10)\n",
      "Requirement already satisfied: contourpy>=1.0.1 in c:\\scripts\\cello_ai\\venv_pycaret\\lib\\site-packages (from matplotlib<3.8.0->pycaret) (1.2.1)\n",
      "Requirement already satisfied: cycler>=0.10 in c:\\scripts\\cello_ai\\venv_pycaret\\lib\\site-packages (from matplotlib<3.8.0->pycaret) (0.12.1)\n",
      "Requirement already satisfied: fonttools>=4.22.0 in c:\\scripts\\cello_ai\\venv_pycaret\\lib\\site-packages (from matplotlib<3.8.0->pycaret) (4.51.0)\n",
      "Requirement already satisfied: kiwisolver>=1.0.1 in c:\\scripts\\cello_ai\\venv_pycaret\\lib\\site-packages (from matplotlib<3.8.0->pycaret) (1.4.5)\n",
      "Requirement already satisfied: pillow>=6.2.0 in c:\\scripts\\cello_ai\\venv_pycaret\\lib\\site-packages (from matplotlib<3.8.0->pycaret) (10.3.0)\n",
      "Requirement already satisfied: pyparsing>=2.3.1 in c:\\scripts\\cello_ai\\venv_pycaret\\lib\\site-packages (from matplotlib<3.8.0->pycaret) (3.1.2)\n",
      "Requirement already satisfied: python-dateutil>=2.7 in c:\\scripts\\cello_ai\\venv_pycaret\\lib\\site-packages (from matplotlib<3.8.0->pycaret) (2.9.0.post0)\n",
      "Requirement already satisfied: fastjsonschema>=2.15 in c:\\scripts\\cello_ai\\venv_pycaret\\lib\\site-packages (from nbformat>=4.2.0->pycaret) (2.19.1)\n",
      "Requirement already satisfied: jsonschema>=2.6 in c:\\scripts\\cello_ai\\venv_pycaret\\lib\\site-packages (from nbformat>=4.2.0->pycaret) (4.21.1)\n",
      "Requirement already satisfied: jupyter-core!=5.0.*,>=4.12 in c:\\scripts\\cello_ai\\venv_pycaret\\lib\\site-packages (from nbformat>=4.2.0->pycaret) (5.7.2)\n",
      "Requirement already satisfied: llvmlite<0.43,>=0.42.0dev0 in c:\\scripts\\cello_ai\\venv_pycaret\\lib\\site-packages (from numba>=0.55.0->pycaret) (0.42.0)\n",
      "Requirement already satisfied: pytz>=2020.1 in c:\\scripts\\cello_ai\\venv_pycaret\\lib\\site-packages (from pandas<2.2.0->pycaret) (2024.1)\n",
      "Requirement already satisfied: tzdata>=2022.1 in c:\\scripts\\cello_ai\\venv_pycaret\\lib\\site-packages (from pandas<2.2.0->pycaret) (2024.1)\n",
      "Requirement already satisfied: tenacity>=6.2.0 in c:\\scripts\\cello_ai\\venv_pycaret\\lib\\site-packages (from plotly>=5.14.0->pycaret) (8.2.3)\n",
      "Requirement already satisfied: dash>=2.9.0 in c:\\scripts\\cello_ai\\venv_pycaret\\lib\\site-packages (from plotly-resampler>=0.8.3.1->pycaret) (2.16.1)\n",
      "Requirement already satisfied: orjson<4.0.0,>=3.8.0 in c:\\scripts\\cello_ai\\venv_pycaret\\lib\\site-packages (from plotly-resampler>=0.8.3.1->pycaret) (3.10.1)\n",
      "Requirement already satisfied: tsdownsample>=0.1.3 in c:\\scripts\\cello_ai\\venv_pycaret\\lib\\site-packages (from plotly-resampler>=0.8.3.1->pycaret) (0.1.3)\n",
      "Requirement already satisfied: Cython!=0.29.18,!=0.29.31,>=0.29 in c:\\scripts\\cello_ai\\venv_pycaret\\lib\\site-packages (from pmdarima>=2.0.4->pycaret) (3.0.10)\n",
      "Requirement already satisfied: urllib3 in c:\\scripts\\cello_ai\\venv_pycaret\\lib\\site-packages (from pmdarima>=2.0.4->pycaret) (2.2.1)\n",
      "Requirement already satisfied: setuptools!=50.0.0,>=38.6.0 in c:\\scripts\\cello_ai\\venv_pycaret\\lib\\site-packages (from pmdarima>=2.0.4->pycaret) (65.5.0)\n",
      "Requirement already satisfied: six in c:\\scripts\\cello_ai\\venv_pycaret\\lib\\site-packages (from pyod>=1.1.3->pycaret) (1.16.0)\n",
      "Requirement already satisfied: charset-normalizer<4,>=2 in c:\\scripts\\cello_ai\\venv_pycaret\\lib\\site-packages (from requests>=2.27.1->pycaret) (3.3.2)\n",
      "Requirement already satisfied: idna<4,>=2.5 in c:\\scripts\\cello_ai\\venv_pycaret\\lib\\site-packages (from requests>=2.27.1->pycaret) (3.7)\n",
      "Requirement already satisfied: certifi>=2017.4.17 in c:\\scripts\\cello_ai\\venv_pycaret\\lib\\site-packages (from requests>=2.27.1->pycaret) (2024.2.2)\n",
      "Requirement already satisfied: Flask<3.1,>=1.0.4 in c:\\scripts\\cello_ai\\venv_pycaret\\lib\\site-packages (from dash>=2.9.0->plotly-resampler>=0.8.3.1->pycaret) (3.0.3)\n",
      "Requirement already satisfied: Werkzeug<3.1 in c:\\scripts\\cello_ai\\venv_pycaret\\lib\\site-packages (from dash>=2.9.0->plotly-resampler>=0.8.3.1->pycaret) (3.0.2)\n",
      "Requirement already satisfied: dash-html-components==2.0.0 in c:\\scripts\\cello_ai\\venv_pycaret\\lib\\site-packages (from dash>=2.9.0->plotly-resampler>=0.8.3.1->pycaret) (2.0.0)\n",
      "Requirement already satisfied: dash-core-components==2.0.0 in c:\\scripts\\cello_ai\\venv_pycaret\\lib\\site-packages (from dash>=2.9.0->plotly-resampler>=0.8.3.1->pycaret) (2.0.0)\n",
      "Requirement already satisfied: dash-table==5.0.0 in c:\\scripts\\cello_ai\\venv_pycaret\\lib\\site-packages (from dash>=2.9.0->plotly-resampler>=0.8.3.1->pycaret) (5.0.0)\n",
      "Requirement already satisfied: retrying in c:\\scripts\\cello_ai\\venv_pycaret\\lib\\site-packages (from dash>=2.9.0->plotly-resampler>=0.8.3.1->pycaret) (1.3.4)\n",
      "Requirement already satisfied: nest-asyncio in c:\\scripts\\cello_ai\\venv_pycaret\\lib\\site-packages (from dash>=2.9.0->plotly-resampler>=0.8.3.1->pycaret) (1.6.0)\n",
      "Requirement already satisfied: parso<0.9.0,>=0.8.3 in c:\\scripts\\cello_ai\\venv_pycaret\\lib\\site-packages (from jedi>=0.16->ipython>=5.5.0->pycaret) (0.8.4)\n",
      "Requirement already satisfied: attrs>=22.2.0 in c:\\scripts\\cello_ai\\venv_pycaret\\lib\\site-packages (from jsonschema>=2.6->nbformat>=4.2.0->pycaret) (23.2.0)\n",
      "Requirement already satisfied: jsonschema-specifications>=2023.03.6 in c:\\scripts\\cello_ai\\venv_pycaret\\lib\\site-packages (from jsonschema>=2.6->nbformat>=4.2.0->pycaret) (2023.12.1)\n",
      "Requirement already satisfied: referencing>=0.28.4 in c:\\scripts\\cello_ai\\venv_pycaret\\lib\\site-packages (from jsonschema>=2.6->nbformat>=4.2.0->pycaret) (0.34.0)\n",
      "Requirement already satisfied: rpds-py>=0.7.1 in c:\\scripts\\cello_ai\\venv_pycaret\\lib\\site-packages (from jsonschema>=2.6->nbformat>=4.2.0->pycaret) (0.18.0)\n",
      "Requirement already satisfied: platformdirs>=2.5 in c:\\scripts\\cello_ai\\venv_pycaret\\lib\\site-packages (from jupyter-core!=5.0.*,>=4.12->nbformat>=4.2.0->pycaret) (4.2.0)\n",
      "Requirement already satisfied: pywin32>=300 in c:\\scripts\\cello_ai\\venv_pycaret\\lib\\site-packages (from jupyter-core!=5.0.*,>=4.12->nbformat>=4.2.0->pycaret) (306)\n",
      "Requirement already satisfied: wcwidth in c:\\scripts\\cello_ai\\venv_pycaret\\lib\\site-packages (from prompt-toolkit<3.1.0,>=3.0.41->ipython>=5.5.0->pycaret) (0.2.13)\n",
      "Requirement already satisfied: executing>=1.2.0 in c:\\scripts\\cello_ai\\venv_pycaret\\lib\\site-packages (from stack-data->ipython>=5.5.0->pycaret) (2.0.1)\n",
      "Requirement already satisfied: asttokens>=2.1.0 in c:\\scripts\\cello_ai\\venv_pycaret\\lib\\site-packages (from stack-data->ipython>=5.5.0->pycaret) (2.4.1)\n",
      "Requirement already satisfied: pure-eval in c:\\scripts\\cello_ai\\venv_pycaret\\lib\\site-packages (from stack-data->ipython>=5.5.0->pycaret) (0.2.2)\n",
      "Requirement already satisfied: itsdangerous>=2.1.2 in c:\\scripts\\cello_ai\\venv_pycaret\\lib\\site-packages (from Flask<3.1,>=1.0.4->dash>=2.9.0->plotly-resampler>=0.8.3.1->pycaret) (2.2.0)\n",
      "Requirement already satisfied: click>=8.1.3 in c:\\scripts\\cello_ai\\venv_pycaret\\lib\\site-packages (from Flask<3.1,>=1.0.4->dash>=2.9.0->plotly-resampler>=0.8.3.1->pycaret) (8.1.7)\n",
      "Requirement already satisfied: blinker>=1.6.2 in c:\\scripts\\cello_ai\\venv_pycaret\\lib\\site-packages (from Flask<3.1,>=1.0.4->dash>=2.9.0->plotly-resampler>=0.8.3.1->pycaret) (1.7.0)\n"
     ]
    },
    {
     "name": "stderr",
     "output_type": "stream",
     "text": [
      "\n",
      "[notice] A new release of pip is available: 23.2.1 -> 24.0\n",
      "[notice] To update, run: python.exe -m pip install --upgrade pip\n"
     ]
    }
   ],
   "source": [
    "!pip install pandas matplotlib numpy\n",
    "!pip install openpyxl\n",
    "!pip install pycaret"
   ]
  },
  {
   "cell_type": "markdown",
   "metadata": {},
   "source": [
    "If the above works without failure all is well and you are ready for the following notebooks."
   ]
  }
 ],
 "metadata": {
  "kernelspec": {
   "display_name": "venv_pycaret",
   "language": "python",
   "name": "python3"
  },
  "language_info": {
   "codemirror_mode": {
    "name": "ipython",
    "version": 3
   },
   "file_extension": ".py",
   "mimetype": "text/x-python",
   "name": "python",
   "nbconvert_exporter": "python",
   "pygments_lexer": "ipython3",
   "version": "3.11.5"
  }
 },
 "nbformat": 4,
 "nbformat_minor": 2
}
