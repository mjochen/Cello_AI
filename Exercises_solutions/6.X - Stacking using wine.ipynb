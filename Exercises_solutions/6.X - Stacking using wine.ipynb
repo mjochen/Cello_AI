{
 "cells": [
  {
   "cell_type": "code",
   "execution_count": null,
   "id": "7816efc9",
   "metadata": {},
   "outputs": [],
   "source": [
    "from sklearn.datasets import load_wine\n",
    "from sklearn.model_selection import train_test_split\n",
    "from sklearn.preprocessing import StandardScaler\n",
    "from sklearn.ensemble import StackingClassifier\n",
    "from sklearn.ensemble import RandomForestClassifier\n",
    "from sklearn.linear_model import LogisticRegression\n",
    "from sklearn.svm import SVC\n",
    "from sklearn.neighbors import KNeighborsClassifier\n",
    "from sklearn.metrics import accuracy_score\n",
    "\n",
    "# Load and prepare the data\n",
    "X, y = load_wine(return_X_y=True)\n",
    "X_train, X_test, y_train, y_test = train_test_split(X, y, stratify=y, random_state=42)\n",
    "\n",
    "# Optional: scale features for models that need it (like SVM)\n",
    "scaler = StandardScaler()\n",
    "X_train = scaler.fit_transform(X_train)\n",
    "X_test = scaler.transform(X_test)\n",
    "\n",
    "# Define base learners\n",
    "base_learners = [\n",
    "    ('rf', RandomForestClassifier(n_estimators=100, random_state=1)),\n",
    "    ('knn', KNeighborsClassifier(n_neighbors=5)),\n",
    "    ('svc', SVC(probability=True))  # SVC needs `probability=True` for stacking\n",
    "]\n",
    "\n",
    "# Meta-model (final estimator)\n",
    "meta_model = LogisticRegression()\n",
    "\n",
    "# Define stacking classifier\n",
    "stacked_model = StackingClassifier(\n",
    "    estimators=base_learners,\n",
    "    final_estimator=meta_model,\n",
    "    cv=5\n",
    ")\n",
    "\n",
    "# Train\n",
    "stacked_model.fit(X_train, y_train)\n",
    "\n",
    "# Predict and evaluate\n",
    "y_pred = stacked_model.predict(X_test)\n",
    "print(\"Accuracy:\", accuracy_score(y_test, y_pred))\n"
   ]
  }
 ],
 "metadata": {
  "language_info": {
   "name": "python"
  }
 },
 "nbformat": 4,
 "nbformat_minor": 5
}
