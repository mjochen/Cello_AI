{
 "cells": [
  {
   "cell_type": "markdown",
   "id": "2e8cf0db",
   "metadata": {},
   "source": [
    "# Stacking\n",
    "\n",
    "We've made 6 models, some of them better than the others. Can't we make a model that combines all these models into one big one?\n",
    "\n",
    "Yes we can, and it's called \"stacking\"."
   ]
  },
  {
   "cell_type": "markdown",
   "id": "8f130c11",
   "metadata": {},
   "source": [
    "## Data import\n",
    "\n",
    "We exported the data before into a pickle-file. That means we can quite simply import it here again."
   ]
  },
  {
   "cell_type": "code",
   "execution_count": null,
   "id": "2eb0ed92",
   "metadata": {},
   "outputs": [],
   "source": [
    "import pickle\n",
    "\n",
    "# Load the pickle file\n",
    "with open('exports/non_linear_data.pkl', 'rb') as file:\n",
    "    data_dict = pickle.load(file)\n",
    "\n",
    "# Display the loaded data\n",
    "\n",
    "X_train = data_dict[\"X_train\"]\n",
    "X_test = data_dict[\"X_test\"]\n",
    "y_train = data_dict[\"y_train\"]\n",
    "y_test = data_dict[\"y_test\"]"
   ]
  },
  {
   "cell_type": "markdown",
   "id": "8ecc182b",
   "metadata": {},
   "source": []
  }
 ],
 "metadata": {
  "kernelspec": {
   "display_name": "venv",
   "language": "python",
   "name": "python3"
  },
  "language_info": {
   "name": "python",
   "version": "3.12.5"
  }
 },
 "nbformat": 4,
 "nbformat_minor": 5
}
