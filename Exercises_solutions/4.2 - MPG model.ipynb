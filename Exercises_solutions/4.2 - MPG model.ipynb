{
 "cells": [
  {
   "cell_type": "markdown",
   "metadata": {},
   "source": [
    "# Building a model\n",
    "\n",
    "In this notebook we'll implement linear regression to predict the mpg (miles per gallon) based on the parameters in the mpg-dataset. This notebook (and the following python-file containing the streamlit app) are examples. In the next notebook you can apply all you've absorbed here on the titanic dataset!"
   ]
  },
  {
   "cell_type": "markdown",
   "metadata": {},
   "source": [
    "## Data import and cleaning\n",
    "\n",
    "Importing is a basic copy-paste of the previous notebook. We've added the first column as an index in stead of a regular column though..."
   ]
  },
  {
   "cell_type": "code",
   "execution_count": 1,
   "metadata": {},
   "outputs": [
    {
     "data": {
      "text/html": [
       "<div>\n",
       "<style scoped>\n",
       "    .dataframe tbody tr th:only-of-type {\n",
       "        vertical-align: middle;\n",
       "    }\n",
       "\n",
       "    .dataframe tbody tr th {\n",
       "        vertical-align: top;\n",
       "    }\n",
       "\n",
       "    .dataframe thead th {\n",
       "        text-align: right;\n",
       "    }\n",
       "</style>\n",
       "<table border=\"1\" class=\"dataframe\">\n",
       "  <thead>\n",
       "    <tr style=\"text-align: right;\">\n",
       "      <th></th>\n",
       "      <th>manufacturer</th>\n",
       "      <th>model</th>\n",
       "      <th>displ</th>\n",
       "      <th>year</th>\n",
       "      <th>cyl</th>\n",
       "      <th>trans</th>\n",
       "      <th>drv</th>\n",
       "      <th>cty</th>\n",
       "      <th>hwy</th>\n",
       "      <th>fl</th>\n",
       "      <th>class</th>\n",
       "    </tr>\n",
       "  </thead>\n",
       "  <tbody>\n",
       "    <tr>\n",
       "      <th>1</th>\n",
       "      <td>audi</td>\n",
       "      <td>a4</td>\n",
       "      <td>1.8</td>\n",
       "      <td>1999</td>\n",
       "      <td>4</td>\n",
       "      <td>auto(l5)</td>\n",
       "      <td>f</td>\n",
       "      <td>18</td>\n",
       "      <td>29</td>\n",
       "      <td>p</td>\n",
       "      <td>compact</td>\n",
       "    </tr>\n",
       "    <tr>\n",
       "      <th>2</th>\n",
       "      <td>audi</td>\n",
       "      <td>a4</td>\n",
       "      <td>1.8</td>\n",
       "      <td>1999</td>\n",
       "      <td>4</td>\n",
       "      <td>manual(m5)</td>\n",
       "      <td>f</td>\n",
       "      <td>21</td>\n",
       "      <td>29</td>\n",
       "      <td>p</td>\n",
       "      <td>compact</td>\n",
       "    </tr>\n",
       "    <tr>\n",
       "      <th>3</th>\n",
       "      <td>audi</td>\n",
       "      <td>a4</td>\n",
       "      <td>2.0</td>\n",
       "      <td>2008</td>\n",
       "      <td>4</td>\n",
       "      <td>manual(m6)</td>\n",
       "      <td>f</td>\n",
       "      <td>20</td>\n",
       "      <td>31</td>\n",
       "      <td>p</td>\n",
       "      <td>compact</td>\n",
       "    </tr>\n",
       "    <tr>\n",
       "      <th>4</th>\n",
       "      <td>audi</td>\n",
       "      <td>a4</td>\n",
       "      <td>2.0</td>\n",
       "      <td>2008</td>\n",
       "      <td>4</td>\n",
       "      <td>auto(av)</td>\n",
       "      <td>f</td>\n",
       "      <td>21</td>\n",
       "      <td>30</td>\n",
       "      <td>p</td>\n",
       "      <td>compact</td>\n",
       "    </tr>\n",
       "    <tr>\n",
       "      <th>5</th>\n",
       "      <td>audi</td>\n",
       "      <td>a4</td>\n",
       "      <td>2.8</td>\n",
       "      <td>1999</td>\n",
       "      <td>6</td>\n",
       "      <td>auto(l5)</td>\n",
       "      <td>f</td>\n",
       "      <td>16</td>\n",
       "      <td>26</td>\n",
       "      <td>p</td>\n",
       "      <td>compact</td>\n",
       "    </tr>\n",
       "  </tbody>\n",
       "</table>\n",
       "</div>"
      ],
      "text/plain": [
       "  manufacturer model  displ  year  cyl       trans drv  cty  hwy fl    class\n",
       "1         audi    a4    1.8  1999    4    auto(l5)   f   18   29  p  compact\n",
       "2         audi    a4    1.8  1999    4  manual(m5)   f   21   29  p  compact\n",
       "3         audi    a4    2.0  2008    4  manual(m6)   f   20   31  p  compact\n",
       "4         audi    a4    2.0  2008    4    auto(av)   f   21   30  p  compact\n",
       "5         audi    a4    2.8  1999    6    auto(l5)   f   16   26  p  compact"
      ]
     },
     "execution_count": 1,
     "metadata": {},
     "output_type": "execute_result"
    }
   ],
   "source": [
    "import pandas as pd\n",
    "import numpy as np\n",
    "import matplotlib.pyplot as plt\n",
    "\n",
    "\n",
    "mpg = pd.read_csv('files/mpg.csv', index_col=0)\n",
    "mpg.head()"
   ]
  },
  {
   "cell_type": "markdown",
   "metadata": {},
   "source": [
    "First we'll be splitting the data in X (the parameters) and Y (what we want to predict.) First print all column names..."
   ]
  },
  {
   "cell_type": "code",
   "execution_count": 2,
   "metadata": {},
   "outputs": [
    {
     "data": {
      "text/plain": [
       "Index(['manufacturer', 'model', 'displ', 'year', 'cyl', 'trans', 'drv', 'cty',\n",
       "       'hwy', 'fl', 'class'],\n",
       "      dtype='object')"
      ]
     },
     "execution_count": 2,
     "metadata": {},
     "output_type": "execute_result"
    }
   ],
   "source": [
    "mpg.columns"
   ]
  },
  {
   "cell_type": "markdown",
   "metadata": {},
   "source": [
    "And copy and edit the ones we'll be using.\n",
    "\n",
    "We'll remove:\n",
    "\n",
    "- 'cty' and 'hwy' because they are the target variables\n",
    "- 'manufacturer' and 'model' because they are not useful for the model\n",
    "\n",
    " (Stricly speaking only hwy, highway miles per gallon, is the target variable, but cty, city miles per gallon, would be too good a predictor. It would dominate the model.)\n",
    "\n",
    "We'll keep:\n",
    "\n",
    "- 'displ': engine displacement in liters\n",
    "- 'year': year of manufacture\n",
    "- 'cyl': number of cylinders\n",
    "- 'trans': type of tranmission *\n",
    "- 'drv': type of drive train *\n",
    "- 'fl': fuel type *\n",
    "- 'class': type of car *\n",
    "\n",
    "There is one problem though: trans, drv, fl and class are strings, not numbers. This can be fixed by encoding them (compact = 1, suv = 2, ...). That however introduces bias: 1 is numerically less than 2. This implies a relionship that does exist for numercial values (a car built in 1999 is older than a car built in 2004), but not in type of car (1 may be smaller and lighter than 2, but that relationship won't hold up for 2 and 3.)\n",
    "\n",
    "A solution would be on hot encoding, but that leads to parameter explosion. Since we won't expect the model to be very good we'll just drop these columns now and go over bias and one hot encoding later on."
   ]
  },
  {
   "cell_type": "code",
   "execution_count": 3,
   "metadata": {},
   "outputs": [],
   "source": [
    "x_1 = mpg[[ 'displ', 'year', 'cyl']]\n",
    "y_1 = mpg['hwy']\n"
   ]
  },
  {
   "cell_type": "markdown",
   "metadata": {},
   "source": [
    "## Building the model\n",
    "\n",
    "Next we'll split the data in a train and test set. For this we'll be using sci-kit learn.\n",
    "\n",
    "(A lot more on overfitting will follow in a later chapter)."
   ]
  },
  {
   "cell_type": "code",
   "execution_count": 4,
   "metadata": {},
   "outputs": [],
   "source": [
    "from sklearn.model_selection import train_test_split\n",
    "\n",
    "x_train_1, x_test_1, y_train_1, y_test_1 = train_test_split(x_1, y_1, test_size = 0.3)\n"
   ]
  },
  {
   "cell_type": "markdown",
   "metadata": {},
   "source": [
    "And just like that we're ready to create a model!"
   ]
  },
  {
   "cell_type": "code",
   "execution_count": 14,
   "metadata": {},
   "outputs": [
    {
     "name": "stdout",
     "output_type": "stream",
     "text": [
      "[-2.08237636  0.19333328 -1.14516224]\n"
     ]
    }
   ],
   "source": [
    "from sklearn.linear_model import LinearRegression\n",
    "\n",
    "model_1 = LinearRegression()\n",
    "model_1.fit(x_train_1, y_train_1)\n",
    "print(model_1.coef_)"
   ]
  },
  {
   "cell_type": "markdown",
   "metadata": {},
   "source": [
    "This presents us with 3 coefficients. These give the influence of that parameter on the final model. They are:\n",
    "\n",
    "* Displacement: -2.475\n",
    "* Year: 0.150\n",
    "* Cylinders: -0.947\n",
    "\n",
    "(You may get different values, but they should be around the same order.)\n",
    "\n",
    "This means that displacement has a large, negative influence. Which makes sense, bigger engines use more gas and have lower miles per gallon. Year has a small positive influence, so newer cars do more miles per gallon. More cylinders also mean less miles (since they use more fuel).\n",
    "\n",
    "What would the coefficient have been if we kept cty in there?"
   ]
  },
  {
   "cell_type": "code",
   "execution_count": 11,
   "metadata": {},
   "outputs": [
    {
     "name": "stdout",
     "output_type": "stream",
     "text": [
      "[-0.43429433  0.07755055  0.22961446  1.2994658 ]\n"
     ]
    }
   ],
   "source": [
    "x_2 = mpg[[ 'displ', 'year', 'cyl', 'cty']]\n",
    "y_2 = mpg['hwy']\n",
    "x_train_2, x_test_2, y_train_2, y_test_2 = train_test_split(x_2, y_2, test_size = 0.3)\n",
    "\n",
    "model_2 = LinearRegression()\n",
    "model_2.fit(x_train_2, y_train_2)\n",
    "print(model_2.coef_)"
   ]
  },
  {
   "cell_type": "markdown",
   "metadata": {},
   "source": [
    "The influence of the others goes down, the influence of cty is the biggest. We'll keep this model on hand.\n",
    "\n",
    "(Fun fact, if you re-run the above cell, the coefficients will change. If you rerun the cell above where we calculate the coefficients for the other model they don't change when you run it again. Why is that?\n",
    "\n",
    "[thinking-link](https://www.youtube.com/watch?v=5dlubcRwYnI)\n",
    "\n",
    "\"train_test_split\" We're splitting the data again. This is done randomly, so we get a different training-set (and thus different results) everytime we run this cell. This doesn't happen in the cell before because it only contains training, not splitting. This can be avoided by setting a random seed (which you should do to get repeatable results).)\n",
    "\n",
    "By the way, a better way of showing these coefficients:"
   ]
  },
  {
   "cell_type": "code",
   "execution_count": 16,
   "metadata": {},
   "outputs": [
    {
     "data": {
      "text/html": [
       "<div>\n",
       "<style scoped>\n",
       "    .dataframe tbody tr th:only-of-type {\n",
       "        vertical-align: middle;\n",
       "    }\n",
       "\n",
       "    .dataframe tbody tr th {\n",
       "        vertical-align: top;\n",
       "    }\n",
       "\n",
       "    .dataframe thead th {\n",
       "        text-align: right;\n",
       "    }\n",
       "</style>\n",
       "<table border=\"1\" class=\"dataframe\">\n",
       "  <thead>\n",
       "    <tr style=\"text-align: right;\">\n",
       "      <th></th>\n",
       "      <th>Coeff</th>\n",
       "    </tr>\n",
       "  </thead>\n",
       "  <tbody>\n",
       "    <tr>\n",
       "      <th>displ</th>\n",
       "      <td>-2.082376</td>\n",
       "    </tr>\n",
       "    <tr>\n",
       "      <th>year</th>\n",
       "      <td>0.193333</td>\n",
       "    </tr>\n",
       "    <tr>\n",
       "      <th>cyl</th>\n",
       "      <td>-1.145162</td>\n",
       "    </tr>\n",
       "  </tbody>\n",
       "</table>\n",
       "</div>"
      ],
      "text/plain": [
       "          Coeff\n",
       "displ -2.082376\n",
       "year   0.193333\n",
       "cyl   -1.145162"
      ]
     },
     "execution_count": 16,
     "metadata": {},
     "output_type": "execute_result"
    }
   ],
   "source": [
    "pd.DataFrame(model_1.coef_, x_1.columns, columns = ['Coeff'])"
   ]
  },
  {
   "cell_type": "markdown",
   "metadata": {},
   "source": [
    "## Predictions\n",
    "\n",
    "The models we made never saw the actual (known) values for the test-set. So how well would it be able to predict these?"
   ]
  },
  {
   "cell_type": "code",
   "execution_count": 17,
   "metadata": {},
   "outputs": [
    {
     "data": {
      "text/plain": [
       "array([24.448084  , 27.28902295, 23.61513346, 27.70549822, 21.45865865,\n",
       "       27.70549822, 28.40430957, 23.12455974, 28.12197349, 17.78476916,\n",
       "       22.99042055, 28.61254721, 27.25914733, 28.12197349, 17.71067072,\n",
       "       17.36829388, 24.448084  , 19.24243261, 19.24243261, 19.24243261,\n",
       "       19.45067025, 29.44549775, 19.24243261, 28.12197349, 19.24243261,\n",
       "       17.71067072, 27.70549822, 27.91373586, 25.07279691, 22.49984683,\n",
       "       19.24243261, 17.99300679, 25.69750982, 27.70549822, 29.86197303,\n",
       "       24.03160873, 17.50243308, 17.99300679, 29.44549775, 21.66689629,\n",
       "       23.40689582, 19.24243261, 27.70549822, 28.12197349, 27.91373586,\n",
       "       22.49984683, 26.24783477, 15.00358144, 17.78476916, 15.42005672,\n",
       "       24.37398556, 28.40430957, 23.33279738, 19.45067025, 28.61254721,\n",
       "       29.44549775, 15.42005672, 19.24243261, 29.44549775, 17.71067072,\n",
       "       21.66689629, 16.4612449 , 24.86455927, 24.86455927, 17.71067072,\n",
       "       22.99042055, 23.74927265, 19.24243261, 29.86197303, 29.44549775,\n",
       "       21.25042101])"
      ]
     },
     "execution_count": 17,
     "metadata": {},
     "output_type": "execute_result"
    }
   ],
   "source": [
    "predictions_1 = model_1.predict(x_test_1)\n",
    "predictions_1"
   ]
  },
  {
   "cell_type": "markdown",
   "metadata": {},
   "source": [
    "Simply printing the predicted values isn't that helpfull. Perhaps a scatterplot vs the actual values?"
   ]
  },
  {
   "cell_type": "code",
   "execution_count": 18,
   "metadata": {},
   "outputs": [
    {
     "data": {
      "text/plain": [
       "<matplotlib.collections.PathCollection at 0x13b76c99940>"
      ]
     },
     "execution_count": 18,
     "metadata": {},
     "output_type": "execute_result"
    },
    {
     "data": {
      "image/png": "[encoded data removed]",
      "text/plain": [
       "<Figure size 640x480 with 1 Axes>"
      ]
     },
     "metadata": {},
     "output_type": "display_data"
    }
   ],
   "source": [
    "plt.scatter(y_test_1, predictions_1)"
   ]
  },
  {
   "cell_type": "markdown",
   "metadata": {},
   "source": [
    "In a perfect model these should all be on the diagonal starting bottom left and going upper right. That is not the case. Perhaps the other model is better?"
   ]
  },
  {
   "cell_type": "code",
   "execution_count": 19,
   "metadata": {},
   "outputs": [
    {
     "data": {
      "text/plain": [
       "<matplotlib.collections.PathCollection at 0x13b7c38b5c0>"
      ]
     },
     "execution_count": 19,
     "metadata": {},
     "output_type": "execute_result"
    },
    {
     "data": {
      "image/png": "[encoded data removed]",
      "text/plain": [
       "<Figure size 640x480 with 1 Axes>"
      ]
     },
     "metadata": {},
     "output_type": "display_data"
    }
   ],
   "source": [
    "predictions_2 = model_2.predict(x_test_2)\n",
    "plt.scatter(y_test_2, predictions_2)"
   ]
  },
  {
   "cell_type": "markdown",
   "metadata": {},
   "source": [
    "Suppose I see a car that has 4 cylinders, an engine displacement of 2.0 and is built in 2024, what would the expected cty be according to the first model?"
   ]
  },
  {
   "cell_type": "code",
   "execution_count": 20,
   "metadata": {},
   "outputs": [
    {
     "data": {
      "text/plain": [
       "array([27.8988315])"
      ]
     },
     "execution_count": 20,
     "metadata": {},
     "output_type": "execute_result"
    }
   ],
   "source": [
    "new_car = pd.DataFrame(data = [[2.0, 2000, 4]], columns = ['displ', 'year', 'cyl'])\n",
    "\n",
    "model_1.predict(new_car)"
   ]
  },
  {
   "cell_type": "markdown",
   "metadata": {},
   "source": [
    "## Parameters on the model\n",
    "\n",
    "We noticed that the second model is better than the first, but how much better? Can this be quantified?\n",
    "\n",
    "A good way af measuring this is modeling the residuals. If there is a normal spread than our models models every relationship in the data."
   ]
  },
  {
   "cell_type": "code",
   "execution_count": 21,
   "metadata": {},
   "outputs": [
    {
     "data": {
      "text/plain": [
       "(array([ 4.,  6., 10., 12., 18., 11.,  4.,  2.,  1.,  3.]),\n",
       " array([-3.15479099, -2.38703494, -1.61927888, -0.85152283, -0.08376677,\n",
       "         0.68398928,  1.45174534,  2.21950139,  2.98725745,  3.7550135 ,\n",
       "         4.52276956]),\n",
       " <BarContainer object of 10 artists>)"
      ]
     },
     "execution_count": 21,
     "metadata": {},
     "output_type": "execute_result"
    },
    {
     "data": {
      "image/png": "[encoded data removed]",
      "text/plain": [
       "<Figure size 640x480 with 2 Axes>"
      ]
     },
     "metadata": {},
     "output_type": "display_data"
    }
   ],
   "source": [
    "plt.subplot(1, 2, 1)\n",
    "plt.hist(y_test_1 - predictions_1)\n",
    "plt.subplot(1, 2, 2)\n",
    "plt.hist(y_test_2 - predictions_2)"
   ]
  },
  {
   "cell_type": "markdown",
   "metadata": {},
   "source": [
    "They look similar but if you look at the bottom axis you'll notice the first model has a much wider spread. This implies the second model is better.\n",
    "\n",
    "The bump on the right are the two-seaters, small cars with low hwy. Since we dropped the class of the cars (it was text) this relationship is not in our model.\n",
    "\n",
    "Interpreting graphs will always feel a bit random. Luckily there are numbers we can calculate!"
   ]
  },
  {
   "cell_type": "code",
   "execution_count": 22,
   "metadata": {},
   "outputs": [
    {
     "data": {
      "text/plain": [
       "(2.878796937089021,\n",
       " np.float64(4.21195580453878),\n",
       " 1.224436109510686,\n",
       " np.float64(1.61681049282575))"
      ]
     },
     "execution_count": 22,
     "metadata": {},
     "output_type": "execute_result"
    }
   ],
   "source": [
    "from sklearn import metrics\n",
    "\n",
    "mae_1 = metrics.mean_absolute_error(y_test_1, predictions_1)\n",
    "mse_1 = np.sqrt(metrics.mean_squared_error(y_test_1, predictions_1))\n",
    "mae_2 = metrics.mean_absolute_error(y_test_2, predictions_2)\n",
    "mse_2 = np.sqrt(metrics.mean_squared_error(y_test_2, predictions_2))\n",
    "\n",
    "mae_1, mse_1, mae_2, mse_2"
   ]
  },
  {
   "cell_type": "markdown",
   "metadata": {},
   "source": [
    "The errors are clearly lower for the second model, but still not very good. Which kind of makes sense, as we're trying to predict based on 235 rows (tenfold of that would be a start for a decent model)."
   ]
  },
  {
   "cell_type": "markdown",
   "metadata": {},
   "source": [
    "## Exporting the model\n",
    "\n",
    "Let's store this model for later usage in our streamlit-app. To export a model we'll store it as pickle-file, which is derived from pickling as you do with veggies in summer to keep them edible in winter (or the next summer, or maybe even 30 years from now)."
   ]
  },
  {
   "cell_type": "code",
   "execution_count": 23,
   "metadata": {},
   "outputs": [],
   "source": [
    "import pickle\n",
    "\n",
    "with open('files/mpg_model.pkl', 'wb') as file: \n",
    "      \n",
    "    # A new file will be created \n",
    "    pickle.dump(model_1, file)"
   ]
  },
  {
   "cell_type": "markdown",
   "metadata": {},
   "source": [
    "Using it would come down to..."
   ]
  },
  {
   "cell_type": "code",
   "execution_count": 24,
   "metadata": {},
   "outputs": [
    {
     "data": {
      "text/plain": [
       "array([27.8988315])"
      ]
     },
     "execution_count": 24,
     "metadata": {},
     "output_type": "execute_result"
    }
   ],
   "source": [
    "with open('files/mpg_model.pkl', 'rb') as file: \n",
    "      \n",
    "    # Call load method to deserialze \n",
    "    model_3 = pickle.load(file) \n",
    "  \n",
    "model_3.predict(new_car)"
   ]
  },
  {
   "cell_type": "markdown",
   "metadata": {},
   "source": [
    "Our model is 1kb in size. Quite the difference compared to the LLM's of [code llama](https://ai.meta.com/blog/code-llama-large-language-model-coding/)."
   ]
  },
  {
   "cell_type": "markdown",
   "metadata": {},
   "source": [
    "Links:\n",
    "\n",
    "https://www.freecodecamp.org/news/how-to-build-and-train-linear-and-logistic-regression-ml-models-in-python/\n",
    "\n",
    "https://www.geeksforgeeks.org/how-to-use-pickle-to-save-and-load-variables-in-python/\n"
   ]
  }
 ],
 "metadata": {
  "kernelspec": {
   "display_name": "venv",
   "language": "python",
   "name": "python3"
  },
  "language_info": {
   "codemirror_mode": {
    "name": "ipython",
    "version": 3
   },
   "file_extension": ".py",
   "mimetype": "text/x-python",
   "name": "python",
   "nbconvert_exporter": "python",
   "pygments_lexer": "ipython3",
   "version": "3.12.5"
  }
 },
 "nbformat": 4,
 "nbformat_minor": 2
}
