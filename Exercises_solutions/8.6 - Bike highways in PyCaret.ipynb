{
 "cells": [
  {
   "cell_type": "markdown",
   "metadata": {},
   "source": [
    "# Bike highways - revisit in PyCaret\n",
    "\n",
    "We already analyzed the bike-highway data a bit. It was a time series, so let's focus on the counting-point nearest to our school and see if we can predict it. And by \"we\" I mean PyCaret.\n",
    "\n",
    "Let's look at the [official PyCaret-documentation](https://pycaret.gitbook.io/docs/get-started/quickstart#time-series). We won't bother with the stock example this time but start right away with our own data."
   ]
  },
  {
   "cell_type": "code",
   "execution_count": 1,
   "metadata": {},
   "outputs": [
    {
     "data": {
      "text/html": [
       "<div>\n",
       "<style scoped>\n",
       "    .dataframe tbody tr th:only-of-type {\n",
       "        vertical-align: middle;\n",
       "    }\n",
       "\n",
       "    .dataframe tbody tr th {\n",
       "        vertical-align: top;\n",
       "    }\n",
       "\n",
       "    .dataframe thead th {\n",
       "        text-align: right;\n",
       "    }\n",
       "</style>\n",
       "<table border=\"1\" class=\"dataframe\">\n",
       "  <thead>\n",
       "    <tr style=\"text-align: right;\">\n",
       "      <th></th>\n",
       "      <th>Meetpunt surrogate key</th>\n",
       "      <th>Meetpunt locatie</th>\n",
       "      <th>Datum</th>\n",
       "      <th>Tijd</th>\n",
       "      <th>Aantal fietsers</th>\n",
       "      <th>Aantal fietsers van</th>\n",
       "      <th>Aantal fietsers naar</th>\n",
       "      <th>Meetpunt code</th>\n",
       "    </tr>\n",
       "  </thead>\n",
       "  <tbody>\n",
       "    <tr>\n",
       "      <th>0</th>\n",
       "      <td>89</td>\n",
       "      <td>Rauwelkoven 54</td>\n",
       "      <td>2020-02-14</td>\n",
       "      <td>00:00:00</td>\n",
       "      <td>0</td>\n",
       "      <td>0</td>\n",
       "      <td>0</td>\n",
       "      <td>FMN GV 21 Geel</td>\n",
       "    </tr>\n",
       "    <tr>\n",
       "      <th>1</th>\n",
       "      <td>89</td>\n",
       "      <td>Rauwelkoven 54</td>\n",
       "      <td>2020-02-14</td>\n",
       "      <td>01:00:00</td>\n",
       "      <td>0</td>\n",
       "      <td>0</td>\n",
       "      <td>0</td>\n",
       "      <td>FMN GV 21 Geel</td>\n",
       "    </tr>\n",
       "    <tr>\n",
       "      <th>2</th>\n",
       "      <td>89</td>\n",
       "      <td>Rauwelkoven 54</td>\n",
       "      <td>2020-02-14</td>\n",
       "      <td>02:00:00</td>\n",
       "      <td>0</td>\n",
       "      <td>0</td>\n",
       "      <td>0</td>\n",
       "      <td>FMN GV 21 Geel</td>\n",
       "    </tr>\n",
       "    <tr>\n",
       "      <th>3</th>\n",
       "      <td>89</td>\n",
       "      <td>Rauwelkoven 54</td>\n",
       "      <td>2020-02-14</td>\n",
       "      <td>03:00:00</td>\n",
       "      <td>2</td>\n",
       "      <td>2</td>\n",
       "      <td>0</td>\n",
       "      <td>FMN GV 21 Geel</td>\n",
       "    </tr>\n",
       "    <tr>\n",
       "      <th>4</th>\n",
       "      <td>89</td>\n",
       "      <td>Rauwelkoven 54</td>\n",
       "      <td>2020-02-14</td>\n",
       "      <td>04:00:00</td>\n",
       "      <td>0</td>\n",
       "      <td>0</td>\n",
       "      <td>0</td>\n",
       "      <td>FMN GV 21 Geel</td>\n",
       "    </tr>\n",
       "  </tbody>\n",
       "</table>\n",
       "</div>"
      ],
      "text/plain": [
       "   Meetpunt surrogate key Meetpunt locatie       Datum      Tijd  \\\n",
       "0                      89   Rauwelkoven 54  2020-02-14  00:00:00   \n",
       "1                      89   Rauwelkoven 54  2020-02-14  01:00:00   \n",
       "2                      89   Rauwelkoven 54  2020-02-14  02:00:00   \n",
       "3                      89   Rauwelkoven 54  2020-02-14  03:00:00   \n",
       "4                      89   Rauwelkoven 54  2020-02-14  04:00:00   \n",
       "\n",
       "   Aantal fietsers  Aantal fietsers van  Aantal fietsers naar   Meetpunt code  \n",
       "0                0                    0                     0  FMN GV 21 Geel  \n",
       "1                0                    0                     0  FMN GV 21 Geel  \n",
       "2                0                    0                     0  FMN GV 21 Geel  \n",
       "3                2                    2                     0  FMN GV 21 Geel  \n",
       "4                0                    0                     0  FMN GV 21 Geel  "
      ]
     },
     "execution_count": 1,
     "metadata": {},
     "output_type": "execute_result"
    }
   ],
   "source": [
    "import pandas as pd\n",
    "\n",
    "df = pd.read_csv('files/bike_counters_data/Measured data-nl-Geel_FMN GV 21 Geel.csv')\n",
    "df.head()"
   ]
  },
  {
   "cell_type": "markdown",
   "metadata": {},
   "source": [
    "Once again we need to do some cleaning. As we can read [here](https://pycaret.gitbook.io/docs/learn-pycaret/official-blog/time-series-forecasting-with-pycaret-regression) PyCaret can't deal with dates so we'll have to store all parts of the date and time separately. We're also only interested in \"Aantal fietsers\", not the \"van\" and \"naar\" columns. The \"Meetpunt surrogate key\", \"Meetpunt locatie\" and \"Meetpunt code\" is always the same, so you can drop these as well.\n",
    "\n",
    "And rename \"Aantal fietsers\" to \"nr_cyclists\". It'll be easier to work with."
   ]
  },
  {
   "cell_type": "code",
   "execution_count": 2,
   "metadata": {},
   "outputs": [
    {
     "data": {
      "text/html": [
       "<div>\n",
       "<style scoped>\n",
       "    .dataframe tbody tr th:only-of-type {\n",
       "        vertical-align: middle;\n",
       "    }\n",
       "\n",
       "    .dataframe tbody tr th {\n",
       "        vertical-align: top;\n",
       "    }\n",
       "\n",
       "    .dataframe thead th {\n",
       "        text-align: right;\n",
       "    }\n",
       "</style>\n",
       "<table border=\"1\" class=\"dataframe\">\n",
       "  <thead>\n",
       "    <tr style=\"text-align: right;\">\n",
       "      <th></th>\n",
       "      <th>nr_cyclists</th>\n",
       "      <th>year</th>\n",
       "      <th>month</th>\n",
       "      <th>day</th>\n",
       "      <th>hour</th>\n",
       "    </tr>\n",
       "  </thead>\n",
       "  <tbody>\n",
       "    <tr>\n",
       "      <th>0</th>\n",
       "      <td>0</td>\n",
       "      <td>2020</td>\n",
       "      <td>2</td>\n",
       "      <td>14</td>\n",
       "      <td>0</td>\n",
       "    </tr>\n",
       "    <tr>\n",
       "      <th>1</th>\n",
       "      <td>0</td>\n",
       "      <td>2020</td>\n",
       "      <td>2</td>\n",
       "      <td>14</td>\n",
       "      <td>0</td>\n",
       "    </tr>\n",
       "    <tr>\n",
       "      <th>2</th>\n",
       "      <td>0</td>\n",
       "      <td>2020</td>\n",
       "      <td>2</td>\n",
       "      <td>14</td>\n",
       "      <td>0</td>\n",
       "    </tr>\n",
       "    <tr>\n",
       "      <th>3</th>\n",
       "      <td>2</td>\n",
       "      <td>2020</td>\n",
       "      <td>2</td>\n",
       "      <td>14</td>\n",
       "      <td>0</td>\n",
       "    </tr>\n",
       "    <tr>\n",
       "      <th>4</th>\n",
       "      <td>0</td>\n",
       "      <td>2020</td>\n",
       "      <td>2</td>\n",
       "      <td>14</td>\n",
       "      <td>0</td>\n",
       "    </tr>\n",
       "  </tbody>\n",
       "</table>\n",
       "</div>"
      ],
      "text/plain": [
       "   nr_cyclists  year  month  day  hour\n",
       "0            0  2020      2   14     0\n",
       "1            0  2020      2   14     0\n",
       "2            0  2020      2   14     0\n",
       "3            2  2020      2   14     0\n",
       "4            0  2020      2   14     0"
      ]
     },
     "execution_count": 2,
     "metadata": {},
     "output_type": "execute_result"
    }
   ],
   "source": [
    "# DELETE\n",
    "\n",
    "df['year'] = pd.DatetimeIndex(df['Datum']).year\n",
    "df['month'] = pd.DatetimeIndex(df['Datum']).month\n",
    "df['day'] = pd.DatetimeIndex(df['Datum']).day\n",
    "df['hour'] = pd.DatetimeIndex(df['Datum']).hour\n",
    "df = df.rename(columns={\"Aantal fietsers\": \"nr_cyclists\"})\n",
    "\n",
    "df = df.drop(columns=['Datum', 'Tijd', 'Meetpunt surrogate key', 'Meetpunt locatie','Aantal fietsers van','Aantal fietsers naar','Meetpunt code'])\n",
    "df.head()"
   ]
  },
  {
   "cell_type": "markdown",
   "metadata": {},
   "source": [
    "Finally, group this data so you're working with the daily totals, not the hourly data. Otherwise you'll be predicting way to many zeros."
   ]
  },
  {
   "cell_type": "code",
   "execution_count": 6,
   "metadata": {},
   "outputs": [
    {
     "data": {
      "text/html": [
       "<div>\n",
       "<style scoped>\n",
       "    .dataframe tbody tr th:only-of-type {\n",
       "        vertical-align: middle;\n",
       "    }\n",
       "\n",
       "    .dataframe tbody tr th {\n",
       "        vertical-align: top;\n",
       "    }\n",
       "\n",
       "    .dataframe thead th {\n",
       "        text-align: right;\n",
       "    }\n",
       "</style>\n",
       "<table border=\"1\" class=\"dataframe\">\n",
       "  <thead>\n",
       "    <tr style=\"text-align: right;\">\n",
       "      <th></th>\n",
       "      <th>year</th>\n",
       "      <th>month</th>\n",
       "      <th>nr_cyclists</th>\n",
       "    </tr>\n",
       "  </thead>\n",
       "  <tbody>\n",
       "    <tr>\n",
       "      <th>0</th>\n",
       "      <td>2020</td>\n",
       "      <td>2</td>\n",
       "      <td>2067</td>\n",
       "    </tr>\n",
       "    <tr>\n",
       "      <th>1</th>\n",
       "      <td>2020</td>\n",
       "      <td>4</td>\n",
       "      <td>26496</td>\n",
       "    </tr>\n",
       "    <tr>\n",
       "      <th>2</th>\n",
       "      <td>2020</td>\n",
       "      <td>5</td>\n",
       "      <td>22445</td>\n",
       "    </tr>\n",
       "    <tr>\n",
       "      <th>3</th>\n",
       "      <td>2020</td>\n",
       "      <td>6</td>\n",
       "      <td>23922</td>\n",
       "    </tr>\n",
       "    <tr>\n",
       "      <th>4</th>\n",
       "      <td>2020</td>\n",
       "      <td>7</td>\n",
       "      <td>20133</td>\n",
       "    </tr>\n",
       "  </tbody>\n",
       "</table>\n",
       "</div>"
      ],
      "text/plain": [
       "   year  month  nr_cyclists\n",
       "0  2020      2         2067\n",
       "1  2020      4        26496\n",
       "2  2020      5        22445\n",
       "3  2020      6        23922\n",
       "4  2020      7        20133"
      ]
     },
     "execution_count": 6,
     "metadata": {},
     "output_type": "execute_result"
    }
   ],
   "source": [
    "df_monthly = df.drop(columns=[\"hour\",\"day\"]).groupby([\"year\",\"month\"], as_index=False).sum([\"nr_cyclists\"])\n",
    "df_monthly.head()"
   ]
  },
  {
   "cell_type": "markdown",
   "metadata": {},
   "source": [
    "Next up is PyCaret! Some of these steps will take a while. If you [have better things to do](https://www.youtube.com/watch?v=nLJ8ILIE780), save the last variable you made (the setup or the best model) in a [pickle](https://www.geeksforgeeks.org/how-to-use-pickle-to-save-and-load-variables-in-python/) file.\n",
    "\n",
    "First, setup using the setup-function."
   ]
  },
  {
   "cell_type": "code",
   "execution_count": 7,
   "metadata": {},
   "outputs": [
    {
     "data": {
      "text/html": [
       "<style type=\"text/css\">\n",
       "</style>\n",
       "<table id=\"T_4ddfd\">\n",
       "  <thead>\n",
       "    <tr>\n",
       "      <th class=\"blank level0\" >&nbsp;</th>\n",
       "      <th id=\"T_4ddfd_level0_col0\" class=\"col_heading level0 col0\" >Description</th>\n",
       "      <th id=\"T_4ddfd_level0_col1\" class=\"col_heading level0 col1\" >Value</th>\n",
       "    </tr>\n",
       "  </thead>\n",
       "  <tbody>\n",
       "    <tr>\n",
       "      <th id=\"T_4ddfd_level0_row0\" class=\"row_heading level0 row0\" >0</th>\n",
       "      <td id=\"T_4ddfd_row0_col0\" class=\"data row0 col0\" >session_id</td>\n",
       "      <td id=\"T_4ddfd_row0_col1\" class=\"data row0 col1\" >123</td>\n",
       "    </tr>\n",
       "    <tr>\n",
       "      <th id=\"T_4ddfd_level0_row1\" class=\"row_heading level0 row1\" >1</th>\n",
       "      <td id=\"T_4ddfd_row1_col0\" class=\"data row1 col0\" >Target</td>\n",
       "      <td id=\"T_4ddfd_row1_col1\" class=\"data row1 col1\" >nr_cyclists</td>\n",
       "    </tr>\n",
       "    <tr>\n",
       "      <th id=\"T_4ddfd_level0_row2\" class=\"row_heading level0 row2\" >2</th>\n",
       "      <td id=\"T_4ddfd_row2_col0\" class=\"data row2 col0\" >Approach</td>\n",
       "      <td id=\"T_4ddfd_row2_col1\" class=\"data row2 col1\" >Univariate</td>\n",
       "    </tr>\n",
       "    <tr>\n",
       "      <th id=\"T_4ddfd_level0_row3\" class=\"row_heading level0 row3\" >3</th>\n",
       "      <td id=\"T_4ddfd_row3_col0\" class=\"data row3 col0\" >Exogenous Variables</td>\n",
       "      <td id=\"T_4ddfd_row3_col1\" class=\"data row3 col1\" >Present</td>\n",
       "    </tr>\n",
       "    <tr>\n",
       "      <th id=\"T_4ddfd_level0_row4\" class=\"row_heading level0 row4\" >4</th>\n",
       "      <td id=\"T_4ddfd_row4_col0\" class=\"data row4 col0\" >Original data shape</td>\n",
       "      <td id=\"T_4ddfd_row4_col1\" class=\"data row4 col1\" >(43, 3)</td>\n",
       "    </tr>\n",
       "    <tr>\n",
       "      <th id=\"T_4ddfd_level0_row5\" class=\"row_heading level0 row5\" >5</th>\n",
       "      <td id=\"T_4ddfd_row5_col0\" class=\"data row5 col0\" >Transformed data shape</td>\n",
       "      <td id=\"T_4ddfd_row5_col1\" class=\"data row5 col1\" >(43, 3)</td>\n",
       "    </tr>\n",
       "    <tr>\n",
       "      <th id=\"T_4ddfd_level0_row6\" class=\"row_heading level0 row6\" >6</th>\n",
       "      <td id=\"T_4ddfd_row6_col0\" class=\"data row6 col0\" >Transformed train set shape</td>\n",
       "      <td id=\"T_4ddfd_row6_col1\" class=\"data row6 col1\" >(40, 3)</td>\n",
       "    </tr>\n",
       "    <tr>\n",
       "      <th id=\"T_4ddfd_level0_row7\" class=\"row_heading level0 row7\" >7</th>\n",
       "      <td id=\"T_4ddfd_row7_col0\" class=\"data row7 col0\" >Transformed test set shape</td>\n",
       "      <td id=\"T_4ddfd_row7_col1\" class=\"data row7 col1\" >(3, 3)</td>\n",
       "    </tr>\n",
       "    <tr>\n",
       "      <th id=\"T_4ddfd_level0_row8\" class=\"row_heading level0 row8\" >8</th>\n",
       "      <td id=\"T_4ddfd_row8_col0\" class=\"data row8 col0\" >Rows with missing values</td>\n",
       "      <td id=\"T_4ddfd_row8_col1\" class=\"data row8 col1\" >0.0%</td>\n",
       "    </tr>\n",
       "    <tr>\n",
       "      <th id=\"T_4ddfd_level0_row9\" class=\"row_heading level0 row9\" >9</th>\n",
       "      <td id=\"T_4ddfd_row9_col0\" class=\"data row9 col0\" >Fold Generator</td>\n",
       "      <td id=\"T_4ddfd_row9_col1\" class=\"data row9 col1\" >ExpandingWindowSplitter</td>\n",
       "    </tr>\n",
       "    <tr>\n",
       "      <th id=\"T_4ddfd_level0_row10\" class=\"row_heading level0 row10\" >10</th>\n",
       "      <td id=\"T_4ddfd_row10_col0\" class=\"data row10 col0\" >Fold Number</td>\n",
       "      <td id=\"T_4ddfd_row10_col1\" class=\"data row10 col1\" >5</td>\n",
       "    </tr>\n",
       "    <tr>\n",
       "      <th id=\"T_4ddfd_level0_row11\" class=\"row_heading level0 row11\" >11</th>\n",
       "      <td id=\"T_4ddfd_row11_col0\" class=\"data row11 col0\" >Enforce Prediction Interval</td>\n",
       "      <td id=\"T_4ddfd_row11_col1\" class=\"data row11 col1\" >False</td>\n",
       "    </tr>\n",
       "    <tr>\n",
       "      <th id=\"T_4ddfd_level0_row12\" class=\"row_heading level0 row12\" >12</th>\n",
       "      <td id=\"T_4ddfd_row12_col0\" class=\"data row12 col0\" >Splits used for hyperparameters</td>\n",
       "      <td id=\"T_4ddfd_row12_col1\" class=\"data row12 col1\" >all</td>\n",
       "    </tr>\n",
       "    <tr>\n",
       "      <th id=\"T_4ddfd_level0_row13\" class=\"row_heading level0 row13\" >13</th>\n",
       "      <td id=\"T_4ddfd_row13_col0\" class=\"data row13 col0\" >User Defined Seasonal Period(s)</td>\n",
       "      <td id=\"T_4ddfd_row13_col1\" class=\"data row13 col1\" >None</td>\n",
       "    </tr>\n",
       "    <tr>\n",
       "      <th id=\"T_4ddfd_level0_row14\" class=\"row_heading level0 row14\" >14</th>\n",
       "      <td id=\"T_4ddfd_row14_col0\" class=\"data row14 col0\" >Ignore Seasonality Test</td>\n",
       "      <td id=\"T_4ddfd_row14_col1\" class=\"data row14 col1\" >False</td>\n",
       "    </tr>\n",
       "    <tr>\n",
       "      <th id=\"T_4ddfd_level0_row15\" class=\"row_heading level0 row15\" >15</th>\n",
       "      <td id=\"T_4ddfd_row15_col0\" class=\"data row15 col0\" >Seasonality Detection Algo</td>\n",
       "      <td id=\"T_4ddfd_row15_col1\" class=\"data row15 col1\" >auto</td>\n",
       "    </tr>\n",
       "    <tr>\n",
       "      <th id=\"T_4ddfd_level0_row16\" class=\"row_heading level0 row16\" >16</th>\n",
       "      <td id=\"T_4ddfd_row16_col0\" class=\"data row16 col0\" >Max Period to Consider</td>\n",
       "      <td id=\"T_4ddfd_row16_col1\" class=\"data row16 col1\" >60</td>\n",
       "    </tr>\n",
       "    <tr>\n",
       "      <th id=\"T_4ddfd_level0_row17\" class=\"row_heading level0 row17\" >17</th>\n",
       "      <td id=\"T_4ddfd_row17_col0\" class=\"data row17 col0\" >Seasonal Period(s) Tested</td>\n",
       "      <td id=\"T_4ddfd_row17_col1\" class=\"data row17 col1\" >[]</td>\n",
       "    </tr>\n",
       "    <tr>\n",
       "      <th id=\"T_4ddfd_level0_row18\" class=\"row_heading level0 row18\" >18</th>\n",
       "      <td id=\"T_4ddfd_row18_col0\" class=\"data row18 col0\" >Significant Seasonal Period(s)</td>\n",
       "      <td id=\"T_4ddfd_row18_col1\" class=\"data row18 col1\" >[1]</td>\n",
       "    </tr>\n",
       "    <tr>\n",
       "      <th id=\"T_4ddfd_level0_row19\" class=\"row_heading level0 row19\" >19</th>\n",
       "      <td id=\"T_4ddfd_row19_col0\" class=\"data row19 col0\" >Significant Seasonal Period(s) without Harmonics</td>\n",
       "      <td id=\"T_4ddfd_row19_col1\" class=\"data row19 col1\" >[1]</td>\n",
       "    </tr>\n",
       "    <tr>\n",
       "      <th id=\"T_4ddfd_level0_row20\" class=\"row_heading level0 row20\" >20</th>\n",
       "      <td id=\"T_4ddfd_row20_col0\" class=\"data row20 col0\" >Remove Harmonics</td>\n",
       "      <td id=\"T_4ddfd_row20_col1\" class=\"data row20 col1\" >False</td>\n",
       "    </tr>\n",
       "    <tr>\n",
       "      <th id=\"T_4ddfd_level0_row21\" class=\"row_heading level0 row21\" >21</th>\n",
       "      <td id=\"T_4ddfd_row21_col0\" class=\"data row21 col0\" >Harmonics Order Method</td>\n",
       "      <td id=\"T_4ddfd_row21_col1\" class=\"data row21 col1\" >harmonic_max</td>\n",
       "    </tr>\n",
       "    <tr>\n",
       "      <th id=\"T_4ddfd_level0_row22\" class=\"row_heading level0 row22\" >22</th>\n",
       "      <td id=\"T_4ddfd_row22_col0\" class=\"data row22 col0\" >Num Seasonalities to Use</td>\n",
       "      <td id=\"T_4ddfd_row22_col1\" class=\"data row22 col1\" >1</td>\n",
       "    </tr>\n",
       "    <tr>\n",
       "      <th id=\"T_4ddfd_level0_row23\" class=\"row_heading level0 row23\" >23</th>\n",
       "      <td id=\"T_4ddfd_row23_col0\" class=\"data row23 col0\" >All Seasonalities to Use</td>\n",
       "      <td id=\"T_4ddfd_row23_col1\" class=\"data row23 col1\" >[1]</td>\n",
       "    </tr>\n",
       "    <tr>\n",
       "      <th id=\"T_4ddfd_level0_row24\" class=\"row_heading level0 row24\" >24</th>\n",
       "      <td id=\"T_4ddfd_row24_col0\" class=\"data row24 col0\" >Primary Seasonality</td>\n",
       "      <td id=\"T_4ddfd_row24_col1\" class=\"data row24 col1\" >1</td>\n",
       "    </tr>\n",
       "    <tr>\n",
       "      <th id=\"T_4ddfd_level0_row25\" class=\"row_heading level0 row25\" >25</th>\n",
       "      <td id=\"T_4ddfd_row25_col0\" class=\"data row25 col0\" >Seasonality Present</td>\n",
       "      <td id=\"T_4ddfd_row25_col1\" class=\"data row25 col1\" >False</td>\n",
       "    </tr>\n",
       "    <tr>\n",
       "      <th id=\"T_4ddfd_level0_row26\" class=\"row_heading level0 row26\" >26</th>\n",
       "      <td id=\"T_4ddfd_row26_col0\" class=\"data row26 col0\" >Seasonality Type</td>\n",
       "      <td id=\"T_4ddfd_row26_col1\" class=\"data row26 col1\" >None</td>\n",
       "    </tr>\n",
       "    <tr>\n",
       "      <th id=\"T_4ddfd_level0_row27\" class=\"row_heading level0 row27\" >27</th>\n",
       "      <td id=\"T_4ddfd_row27_col0\" class=\"data row27 col0\" >Target Strictly Positive</td>\n",
       "      <td id=\"T_4ddfd_row27_col1\" class=\"data row27 col1\" >False</td>\n",
       "    </tr>\n",
       "    <tr>\n",
       "      <th id=\"T_4ddfd_level0_row28\" class=\"row_heading level0 row28\" >28</th>\n",
       "      <td id=\"T_4ddfd_row28_col0\" class=\"data row28 col0\" >Target White Noise</td>\n",
       "      <td id=\"T_4ddfd_row28_col1\" class=\"data row28 col1\" >No</td>\n",
       "    </tr>\n",
       "    <tr>\n",
       "      <th id=\"T_4ddfd_level0_row29\" class=\"row_heading level0 row29\" >29</th>\n",
       "      <td id=\"T_4ddfd_row29_col0\" class=\"data row29 col0\" >Recommended d</td>\n",
       "      <td id=\"T_4ddfd_row29_col1\" class=\"data row29 col1\" >0</td>\n",
       "    </tr>\n",
       "    <tr>\n",
       "      <th id=\"T_4ddfd_level0_row30\" class=\"row_heading level0 row30\" >30</th>\n",
       "      <td id=\"T_4ddfd_row30_col0\" class=\"data row30 col0\" >Recommended Seasonal D</td>\n",
       "      <td id=\"T_4ddfd_row30_col1\" class=\"data row30 col1\" >0</td>\n",
       "    </tr>\n",
       "    <tr>\n",
       "      <th id=\"T_4ddfd_level0_row31\" class=\"row_heading level0 row31\" >31</th>\n",
       "      <td id=\"T_4ddfd_row31_col0\" class=\"data row31 col0\" >Preprocess</td>\n",
       "      <td id=\"T_4ddfd_row31_col1\" class=\"data row31 col1\" >False</td>\n",
       "    </tr>\n",
       "    <tr>\n",
       "      <th id=\"T_4ddfd_level0_row32\" class=\"row_heading level0 row32\" >32</th>\n",
       "      <td id=\"T_4ddfd_row32_col0\" class=\"data row32 col0\" >CPU Jobs</td>\n",
       "      <td id=\"T_4ddfd_row32_col1\" class=\"data row32 col1\" >-1</td>\n",
       "    </tr>\n",
       "    <tr>\n",
       "      <th id=\"T_4ddfd_level0_row33\" class=\"row_heading level0 row33\" >33</th>\n",
       "      <td id=\"T_4ddfd_row33_col0\" class=\"data row33 col0\" >Use GPU</td>\n",
       "      <td id=\"T_4ddfd_row33_col1\" class=\"data row33 col1\" >False</td>\n",
       "    </tr>\n",
       "    <tr>\n",
       "      <th id=\"T_4ddfd_level0_row34\" class=\"row_heading level0 row34\" >34</th>\n",
       "      <td id=\"T_4ddfd_row34_col0\" class=\"data row34 col0\" >Log Experiment</td>\n",
       "      <td id=\"T_4ddfd_row34_col1\" class=\"data row34 col1\" >False</td>\n",
       "    </tr>\n",
       "    <tr>\n",
       "      <th id=\"T_4ddfd_level0_row35\" class=\"row_heading level0 row35\" >35</th>\n",
       "      <td id=\"T_4ddfd_row35_col0\" class=\"data row35 col0\" >Experiment Name</td>\n",
       "      <td id=\"T_4ddfd_row35_col1\" class=\"data row35 col1\" >ts-default-name</td>\n",
       "    </tr>\n",
       "    <tr>\n",
       "      <th id=\"T_4ddfd_level0_row36\" class=\"row_heading level0 row36\" >36</th>\n",
       "      <td id=\"T_4ddfd_row36_col0\" class=\"data row36 col0\" >USI</td>\n",
       "      <td id=\"T_4ddfd_row36_col1\" class=\"data row36 col1\" >04f6</td>\n",
       "    </tr>\n",
       "  </tbody>\n",
       "</table>\n"
      ],
      "text/plain": [
       "<pandas.io.formats.style.Styler at 0x23c463af090>"
      ]
     },
     "metadata": {},
     "output_type": "display_data"
    }
   ],
   "source": [
    "# DELETE\n",
    "from pycaret.time_series import *\n",
    "\n",
    "s = setup(df_monthly, fh = 3, fold = 5, session_id = 123, target=\"nr_cyclists\")"
   ]
  },
  {
   "cell_type": "markdown",
   "metadata": {},
   "source": [
    "Next up compare the different models. We're predicting based on the monthly data, giving us 40 datapoints to predict and test on. This is not nearly enough, but as a POC it'll do.\n",
    "\n",
    "Also, use the option \"n_select=5\" as parameter to compare_models."
   ]
  },
  {
   "cell_type": "code",
   "execution_count": 8,
   "metadata": {},
   "outputs": [
    {
     "data": {
      "text/html": [],
      "text/plain": [
       "<IPython.core.display.HTML object>"
      ]
     },
     "metadata": {},
     "output_type": "display_data"
    },
    {
     "data": {
      "text/html": [
       "<style type=\"text/css\">\n",
       "#T_18dcc th {\n",
       "  text-align: left;\n",
       "}\n",
       "#T_18dcc_row0_col0, #T_18dcc_row1_col0, #T_18dcc_row1_col1, #T_18dcc_row1_col2, #T_18dcc_row1_col3, #T_18dcc_row1_col4, #T_18dcc_row1_col5, #T_18dcc_row1_col6, #T_18dcc_row1_col7, #T_18dcc_row2_col0, #T_18dcc_row2_col1, #T_18dcc_row2_col2, #T_18dcc_row2_col3, #T_18dcc_row2_col4, #T_18dcc_row2_col5, #T_18dcc_row2_col6, #T_18dcc_row2_col7, #T_18dcc_row3_col0, #T_18dcc_row3_col1, #T_18dcc_row3_col2, #T_18dcc_row3_col3, #T_18dcc_row3_col4, #T_18dcc_row3_col5, #T_18dcc_row3_col6, #T_18dcc_row3_col7, #T_18dcc_row4_col0, #T_18dcc_row4_col1, #T_18dcc_row4_col2, #T_18dcc_row4_col3, #T_18dcc_row4_col4, #T_18dcc_row4_col5, #T_18dcc_row4_col6, #T_18dcc_row4_col7, #T_18dcc_row5_col0, #T_18dcc_row5_col1, #T_18dcc_row5_col2, #T_18dcc_row5_col3, #T_18dcc_row5_col4, #T_18dcc_row5_col5, #T_18dcc_row5_col6, #T_18dcc_row5_col7, #T_18dcc_row6_col0, #T_18dcc_row6_col1, #T_18dcc_row6_col2, #T_18dcc_row6_col3, #T_18dcc_row6_col4, #T_18dcc_row6_col5, #T_18dcc_row6_col6, #T_18dcc_row6_col7, #T_18dcc_row7_col0, #T_18dcc_row7_col1, #T_18dcc_row7_col2, #T_18dcc_row7_col3, #T_18dcc_row7_col4, #T_18dcc_row7_col5, #T_18dcc_row7_col6, #T_18dcc_row7_col7, #T_18dcc_row8_col0, #T_18dcc_row8_col1, #T_18dcc_row8_col2, #T_18dcc_row8_col3, #T_18dcc_row8_col4, #T_18dcc_row8_col5, #T_18dcc_row8_col6, #T_18dcc_row8_col7, #T_18dcc_row9_col0, #T_18dcc_row9_col1, #T_18dcc_row9_col2, #T_18dcc_row9_col3, #T_18dcc_row9_col4, #T_18dcc_row9_col5, #T_18dcc_row9_col6, #T_18dcc_row9_col7, #T_18dcc_row10_col0, #T_18dcc_row10_col1, #T_18dcc_row10_col2, #T_18dcc_row10_col3, #T_18dcc_row10_col4, #T_18dcc_row10_col5, #T_18dcc_row10_col6, #T_18dcc_row10_col7, #T_18dcc_row11_col0, #T_18dcc_row11_col1, #T_18dcc_row11_col2, #T_18dcc_row11_col3, #T_18dcc_row11_col4, #T_18dcc_row11_col5, #T_18dcc_row11_col6, #T_18dcc_row11_col7, #T_18dcc_row12_col0, #T_18dcc_row12_col1, #T_18dcc_row12_col2, #T_18dcc_row12_col3, #T_18dcc_row12_col4, #T_18dcc_row12_col5, #T_18dcc_row12_col6, #T_18dcc_row12_col7, #T_18dcc_row13_col0, #T_18dcc_row13_col1, #T_18dcc_row13_col2, #T_18dcc_row13_col3, #T_18dcc_row13_col4, #T_18dcc_row13_col5, #T_18dcc_row13_col6, #T_18dcc_row13_col7, #T_18dcc_row14_col0, #T_18dcc_row14_col1, #T_18dcc_row14_col2, #T_18dcc_row14_col3, #T_18dcc_row14_col4, #T_18dcc_row14_col5, #T_18dcc_row14_col6, #T_18dcc_row14_col7, #T_18dcc_row15_col0, #T_18dcc_row15_col1, #T_18dcc_row15_col2, #T_18dcc_row15_col3, #T_18dcc_row15_col4, #T_18dcc_row15_col5, #T_18dcc_row15_col6, #T_18dcc_row15_col7, #T_18dcc_row16_col0, #T_18dcc_row16_col1, #T_18dcc_row16_col2, #T_18dcc_row16_col3, #T_18dcc_row16_col4, #T_18dcc_row16_col5, #T_18dcc_row16_col6, #T_18dcc_row16_col7, #T_18dcc_row17_col0, #T_18dcc_row17_col1, #T_18dcc_row17_col2, #T_18dcc_row17_col3, #T_18dcc_row17_col4, #T_18dcc_row17_col5, #T_18dcc_row17_col6, #T_18dcc_row17_col7 {\n",
       "  text-align: left;\n",
       "}\n",
       "#T_18dcc_row0_col1, #T_18dcc_row0_col2, #T_18dcc_row0_col3, #T_18dcc_row0_col4, #T_18dcc_row0_col5, #T_18dcc_row0_col6, #T_18dcc_row0_col7 {\n",
       "  text-align: left;\n",
       "  background-color: yellow;\n",
       "}\n",
       "#T_18dcc_row0_col8, #T_18dcc_row1_col8, #T_18dcc_row2_col8, #T_18dcc_row3_col8, #T_18dcc_row5_col8, #T_18dcc_row7_col8, #T_18dcc_row8_col8, #T_18dcc_row9_col8, #T_18dcc_row10_col8, #T_18dcc_row11_col8, #T_18dcc_row12_col8, #T_18dcc_row13_col8, #T_18dcc_row14_col8, #T_18dcc_row15_col8, #T_18dcc_row16_col8, #T_18dcc_row17_col8 {\n",
       "  text-align: left;\n",
       "  background-color: lightgrey;\n",
       "}\n",
       "#T_18dcc_row4_col8, #T_18dcc_row6_col8 {\n",
       "  text-align: left;\n",
       "  background-color: yellow;\n",
       "  background-color: lightgrey;\n",
       "}\n",
       "</style>\n",
       "<table id=\"T_18dcc\">\n",
       "  <thead>\n",
       "    <tr>\n",
       "      <th class=\"blank level0\" >&nbsp;</th>\n",
       "      <th id=\"T_18dcc_level0_col0\" class=\"col_heading level0 col0\" >Model</th>\n",
       "      <th id=\"T_18dcc_level0_col1\" class=\"col_heading level0 col1\" >MASE</th>\n",
       "      <th id=\"T_18dcc_level0_col2\" class=\"col_heading level0 col2\" >RMSSE</th>\n",
       "      <th id=\"T_18dcc_level0_col3\" class=\"col_heading level0 col3\" >MAE</th>\n",
       "      <th id=\"T_18dcc_level0_col4\" class=\"col_heading level0 col4\" >RMSE</th>\n",
       "      <th id=\"T_18dcc_level0_col5\" class=\"col_heading level0 col5\" >MAPE</th>\n",
       "      <th id=\"T_18dcc_level0_col6\" class=\"col_heading level0 col6\" >SMAPE</th>\n",
       "      <th id=\"T_18dcc_level0_col7\" class=\"col_heading level0 col7\" >R2</th>\n",
       "      <th id=\"T_18dcc_level0_col8\" class=\"col_heading level0 col8\" >TT (Sec)</th>\n",
       "    </tr>\n",
       "  </thead>\n",
       "  <tbody>\n",
       "    <tr>\n",
       "      <th id=\"T_18dcc_level0_row0\" class=\"row_heading level0 row0\" >gbr_cds_dt</th>\n",
       "      <td id=\"T_18dcc_row0_col0\" class=\"data row0 col0\" >Gradient Boosting w/ Cond. Deseasonalize & Detrending</td>\n",
       "      <td id=\"T_18dcc_row0_col1\" class=\"data row0 col1\" >0.7712</td>\n",
       "      <td id=\"T_18dcc_row0_col2\" class=\"data row0 col2\" >0.6906</td>\n",
       "      <td id=\"T_18dcc_row0_col3\" class=\"data row0 col3\" >5956.5454</td>\n",
       "      <td id=\"T_18dcc_row0_col4\" class=\"data row0 col4\" >6610.1847</td>\n",
       "      <td id=\"T_18dcc_row0_col5\" class=\"data row0 col5\" >0.1938</td>\n",
       "      <td id=\"T_18dcc_row0_col6\" class=\"data row0 col6\" >0.2138</td>\n",
       "      <td id=\"T_18dcc_row0_col7\" class=\"data row0 col7\" >-12.3424</td>\n",
       "      <td id=\"T_18dcc_row0_col8\" class=\"data row0 col8\" >0.0480</td>\n",
       "    </tr>\n",
       "    <tr>\n",
       "      <th id=\"T_18dcc_level0_row1\" class=\"row_heading level0 row1\" >ada_cds_dt</th>\n",
       "      <td id=\"T_18dcc_row1_col0\" class=\"data row1 col0\" >AdaBoost w/ Cond. Deseasonalize & Detrending</td>\n",
       "      <td id=\"T_18dcc_row1_col1\" class=\"data row1 col1\" >0.8298</td>\n",
       "      <td id=\"T_18dcc_row1_col2\" class=\"data row1 col2\" >0.7262</td>\n",
       "      <td id=\"T_18dcc_row1_col3\" class=\"data row1 col3\" >6389.4844</td>\n",
       "      <td id=\"T_18dcc_row1_col4\" class=\"data row1 col4\" >6932.9224</td>\n",
       "      <td id=\"T_18dcc_row1_col5\" class=\"data row1 col5\" >0.1953</td>\n",
       "      <td id=\"T_18dcc_row1_col6\" class=\"data row1 col6\" >0.2189</td>\n",
       "      <td id=\"T_18dcc_row1_col7\" class=\"data row1 col7\" >-16.6429</td>\n",
       "      <td id=\"T_18dcc_row1_col8\" class=\"data row1 col8\" >0.0520</td>\n",
       "    </tr>\n",
       "    <tr>\n",
       "      <th id=\"T_18dcc_level0_row2\" class=\"row_heading level0 row2\" >rf_cds_dt</th>\n",
       "      <td id=\"T_18dcc_row2_col0\" class=\"data row2 col0\" >Random Forest w/ Cond. Deseasonalize & Detrending</td>\n",
       "      <td id=\"T_18dcc_row2_col1\" class=\"data row2 col1\" >0.8865</td>\n",
       "      <td id=\"T_18dcc_row2_col2\" class=\"data row2 col2\" >0.7771</td>\n",
       "      <td id=\"T_18dcc_row2_col3\" class=\"data row2 col3\" >6835.1022</td>\n",
       "      <td id=\"T_18dcc_row2_col4\" class=\"data row2 col4\" >7420.5291</td>\n",
       "      <td id=\"T_18dcc_row2_col5\" class=\"data row2 col5\" >0.2113</td>\n",
       "      <td id=\"T_18dcc_row2_col6\" class=\"data row2 col6\" >0.2477</td>\n",
       "      <td id=\"T_18dcc_row2_col7\" class=\"data row2 col7\" >-15.7894</td>\n",
       "      <td id=\"T_18dcc_row2_col8\" class=\"data row2 col8\" >0.0800</td>\n",
       "    </tr>\n",
       "    <tr>\n",
       "      <th id=\"T_18dcc_level0_row3\" class=\"row_heading level0 row3\" >dt_cds_dt</th>\n",
       "      <td id=\"T_18dcc_row3_col0\" class=\"data row3 col0\" >Decision Tree w/ Cond. Deseasonalize & Detrending</td>\n",
       "      <td id=\"T_18dcc_row3_col1\" class=\"data row3 col1\" >0.9156</td>\n",
       "      <td id=\"T_18dcc_row3_col2\" class=\"data row3 col2\" >0.8674</td>\n",
       "      <td id=\"T_18dcc_row3_col3\" class=\"data row3 col3\" >7161.9308</td>\n",
       "      <td id=\"T_18dcc_row3_col4\" class=\"data row3 col4\" >8364.3143</td>\n",
       "      <td id=\"T_18dcc_row3_col5\" class=\"data row3 col5\" >0.2264</td>\n",
       "      <td id=\"T_18dcc_row3_col6\" class=\"data row3 col6\" >0.2729</td>\n",
       "      <td id=\"T_18dcc_row3_col7\" class=\"data row3 col7\" >-17.9133</td>\n",
       "      <td id=\"T_18dcc_row3_col8\" class=\"data row3 col8\" >0.0340</td>\n",
       "    </tr>\n",
       "    <tr>\n",
       "      <th id=\"T_18dcc_level0_row4\" class=\"row_heading level0 row4\" >omp_cds_dt</th>\n",
       "      <td id=\"T_18dcc_row4_col0\" class=\"data row4 col0\" >Orthogonal Matching Pursuit w/ Cond. Deseasonalize & Detrending</td>\n",
       "      <td id=\"T_18dcc_row4_col1\" class=\"data row4 col1\" >0.9336</td>\n",
       "      <td id=\"T_18dcc_row4_col2\" class=\"data row4 col2\" >0.8160</td>\n",
       "      <td id=\"T_18dcc_row4_col3\" class=\"data row4 col3\" >7285.1628</td>\n",
       "      <td id=\"T_18dcc_row4_col4\" class=\"data row4 col4\" >7867.3416</td>\n",
       "      <td id=\"T_18dcc_row4_col5\" class=\"data row4 col5\" >0.2283</td>\n",
       "      <td id=\"T_18dcc_row4_col6\" class=\"data row4 col6\" >0.2469</td>\n",
       "      <td id=\"T_18dcc_row4_col7\" class=\"data row4 col7\" >-28.5719</td>\n",
       "      <td id=\"T_18dcc_row4_col8\" class=\"data row4 col8\" >0.0320</td>\n",
       "    </tr>\n",
       "    <tr>\n",
       "      <th id=\"T_18dcc_level0_row5\" class=\"row_heading level0 row5\" >br_cds_dt</th>\n",
       "      <td id=\"T_18dcc_row5_col0\" class=\"data row5 col0\" >Bayesian Ridge w/ Cond. Deseasonalize & Detrending</td>\n",
       "      <td id=\"T_18dcc_row5_col1\" class=\"data row5 col1\" >0.9464</td>\n",
       "      <td id=\"T_18dcc_row5_col2\" class=\"data row5 col2\" >0.8241</td>\n",
       "      <td id=\"T_18dcc_row5_col3\" class=\"data row5 col3\" >7383.7618</td>\n",
       "      <td id=\"T_18dcc_row5_col4\" class=\"data row5 col4\" >7945.8919</td>\n",
       "      <td id=\"T_18dcc_row5_col5\" class=\"data row5 col5\" >0.2301</td>\n",
       "      <td id=\"T_18dcc_row5_col6\" class=\"data row5 col6\" >0.2507</td>\n",
       "      <td id=\"T_18dcc_row5_col7\" class=\"data row5 col7\" >-29.9980</td>\n",
       "      <td id=\"T_18dcc_row5_col8\" class=\"data row5 col8\" >0.0380</td>\n",
       "    </tr>\n",
       "    <tr>\n",
       "      <th id=\"T_18dcc_level0_row6\" class=\"row_heading level0 row6\" >huber_cds_dt</th>\n",
       "      <td id=\"T_18dcc_row6_col0\" class=\"data row6 col0\" >Huber w/ Cond. Deseasonalize & Detrending</td>\n",
       "      <td id=\"T_18dcc_row6_col1\" class=\"data row6 col1\" >0.9970</td>\n",
       "      <td id=\"T_18dcc_row6_col2\" class=\"data row6 col2\" >0.8601</td>\n",
       "      <td id=\"T_18dcc_row6_col3\" class=\"data row6 col3\" >7747.6890</td>\n",
       "      <td id=\"T_18dcc_row6_col4\" class=\"data row6 col4\" >8268.2420</td>\n",
       "      <td id=\"T_18dcc_row6_col5\" class=\"data row6 col5\" >0.2414</td>\n",
       "      <td id=\"T_18dcc_row6_col6\" class=\"data row6 col6\" >0.2562</td>\n",
       "      <td id=\"T_18dcc_row6_col7\" class=\"data row6 col7\" >-30.5327</td>\n",
       "      <td id=\"T_18dcc_row6_col8\" class=\"data row6 col8\" >0.0320</td>\n",
       "    </tr>\n",
       "    <tr>\n",
       "      <th id=\"T_18dcc_level0_row7\" class=\"row_heading level0 row7\" >en_cds_dt</th>\n",
       "      <td id=\"T_18dcc_row7_col0\" class=\"data row7 col0\" >Elastic Net w/ Cond. Deseasonalize & Detrending</td>\n",
       "      <td id=\"T_18dcc_row7_col1\" class=\"data row7 col1\" >1.0109</td>\n",
       "      <td id=\"T_18dcc_row7_col2\" class=\"data row7 col2\" >0.8706</td>\n",
       "      <td id=\"T_18dcc_row7_col3\" class=\"data row7 col3\" >7902.4904</td>\n",
       "      <td id=\"T_18dcc_row7_col4\" class=\"data row7 col4\" >8408.7235</td>\n",
       "      <td id=\"T_18dcc_row7_col5\" class=\"data row7 col5\" >0.2464</td>\n",
       "      <td id=\"T_18dcc_row7_col6\" class=\"data row7 col6\" >0.2753</td>\n",
       "      <td id=\"T_18dcc_row7_col7\" class=\"data row7 col7\" >-33.2562</td>\n",
       "      <td id=\"T_18dcc_row7_col8\" class=\"data row7 col8\" >0.1180</td>\n",
       "    </tr>\n",
       "    <tr>\n",
       "      <th id=\"T_18dcc_level0_row8\" class=\"row_heading level0 row8\" >knn_cds_dt</th>\n",
       "      <td id=\"T_18dcc_row8_col0\" class=\"data row8 col0\" >K Neighbors w/ Cond. Deseasonalize & Detrending</td>\n",
       "      <td id=\"T_18dcc_row8_col1\" class=\"data row8 col1\" >1.0219</td>\n",
       "      <td id=\"T_18dcc_row8_col2\" class=\"data row8 col2\" >0.8937</td>\n",
       "      <td id=\"T_18dcc_row8_col3\" class=\"data row8 col3\" >7942.2503</td>\n",
       "      <td id=\"T_18dcc_row8_col4\" class=\"data row8 col4\" >8599.3869</td>\n",
       "      <td id=\"T_18dcc_row8_col5\" class=\"data row8 col5\" >0.2503</td>\n",
       "      <td id=\"T_18dcc_row8_col6\" class=\"data row8 col6\" >0.2741</td>\n",
       "      <td id=\"T_18dcc_row8_col7\" class=\"data row8 col7\" >-24.7515</td>\n",
       "      <td id=\"T_18dcc_row8_col8\" class=\"data row8 col8\" >0.0520</td>\n",
       "    </tr>\n",
       "    <tr>\n",
       "      <th id=\"T_18dcc_level0_row9\" class=\"row_heading level0 row9\" >et_cds_dt</th>\n",
       "      <td id=\"T_18dcc_row9_col0\" class=\"data row9 col0\" >Extra Trees w/ Cond. Deseasonalize & Detrending</td>\n",
       "      <td id=\"T_18dcc_row9_col1\" class=\"data row9 col1\" >1.0556</td>\n",
       "      <td id=\"T_18dcc_row9_col2\" class=\"data row9 col2\" >0.9237</td>\n",
       "      <td id=\"T_18dcc_row9_col3\" class=\"data row9 col3\" >8242.7958</td>\n",
       "      <td id=\"T_18dcc_row9_col4\" class=\"data row9 col4\" >8901.2829</td>\n",
       "      <td id=\"T_18dcc_row9_col5\" class=\"data row9 col5\" >0.2729</td>\n",
       "      <td id=\"T_18dcc_row9_col6\" class=\"data row9 col6\" >0.3409</td>\n",
       "      <td id=\"T_18dcc_row9_col7\" class=\"data row9 col7\" >-20.0125</td>\n",
       "      <td id=\"T_18dcc_row9_col8\" class=\"data row9 col8\" >0.0680</td>\n",
       "    </tr>\n",
       "    <tr>\n",
       "      <th id=\"T_18dcc_level0_row10\" class=\"row_heading level0 row10\" >ridge_cds_dt</th>\n",
       "      <td id=\"T_18dcc_row10_col0\" class=\"data row10 col0\" >Ridge w/ Cond. Deseasonalize & Detrending</td>\n",
       "      <td id=\"T_18dcc_row10_col1\" class=\"data row10 col1\" >1.0620</td>\n",
       "      <td id=\"T_18dcc_row10_col2\" class=\"data row10 col2\" >0.9230</td>\n",
       "      <td id=\"T_18dcc_row10_col3\" class=\"data row10 col3\" >8326.2446</td>\n",
       "      <td id=\"T_18dcc_row10_col4\" class=\"data row10 col4\" >8932.0443</td>\n",
       "      <td id=\"T_18dcc_row10_col5\" class=\"data row10 col5\" >0.2580</td>\n",
       "      <td id=\"T_18dcc_row10_col6\" class=\"data row10 col6\" >0.2993</td>\n",
       "      <td id=\"T_18dcc_row10_col7\" class=\"data row10 col7\" >-38.3776</td>\n",
       "      <td id=\"T_18dcc_row10_col8\" class=\"data row10 col8\" >0.1160</td>\n",
       "    </tr>\n",
       "    <tr>\n",
       "      <th id=\"T_18dcc_level0_row11\" class=\"row_heading level0 row11\" >lasso_cds_dt</th>\n",
       "      <td id=\"T_18dcc_row11_col0\" class=\"data row11 col0\" >Lasso w/ Cond. Deseasonalize & Detrending</td>\n",
       "      <td id=\"T_18dcc_row11_col1\" class=\"data row11 col1\" >1.0738</td>\n",
       "      <td id=\"T_18dcc_row11_col2\" class=\"data row11 col2\" >0.9346</td>\n",
       "      <td id=\"T_18dcc_row11_col3\" class=\"data row11 col3\" >8424.7513</td>\n",
       "      <td id=\"T_18dcc_row11_col4\" class=\"data row11 col4\" >9049.0207</td>\n",
       "      <td id=\"T_18dcc_row11_col5\" class=\"data row11 col5\" >0.2610</td>\n",
       "      <td id=\"T_18dcc_row11_col6\" class=\"data row11 col6\" >0.3051</td>\n",
       "      <td id=\"T_18dcc_row11_col7\" class=\"data row11 col7\" >-39.3543</td>\n",
       "      <td id=\"T_18dcc_row11_col8\" class=\"data row11 col8\" >0.1060</td>\n",
       "    </tr>\n",
       "    <tr>\n",
       "      <th id=\"T_18dcc_level0_row12\" class=\"row_heading level0 row12\" >llar_cds_dt</th>\n",
       "      <td id=\"T_18dcc_row12_col0\" class=\"data row12 col0\" >Lasso Least Angular Regressor w/ Cond. Deseasonalize & Detrending</td>\n",
       "      <td id=\"T_18dcc_row12_col1\" class=\"data row12 col1\" >1.0738</td>\n",
       "      <td id=\"T_18dcc_row12_col2\" class=\"data row12 col2\" >0.9346</td>\n",
       "      <td id=\"T_18dcc_row12_col3\" class=\"data row12 col3\" >8424.7513</td>\n",
       "      <td id=\"T_18dcc_row12_col4\" class=\"data row12 col4\" >9049.0207</td>\n",
       "      <td id=\"T_18dcc_row12_col5\" class=\"data row12 col5\" >0.2610</td>\n",
       "      <td id=\"T_18dcc_row12_col6\" class=\"data row12 col6\" >0.3051</td>\n",
       "      <td id=\"T_18dcc_row12_col7\" class=\"data row12 col7\" >-39.3543</td>\n",
       "      <td id=\"T_18dcc_row12_col8\" class=\"data row12 col8\" >0.0360</td>\n",
       "    </tr>\n",
       "    <tr>\n",
       "      <th id=\"T_18dcc_level0_row13\" class=\"row_heading level0 row13\" >lr_cds_dt</th>\n",
       "      <td id=\"T_18dcc_row13_col0\" class=\"data row13 col0\" >Linear w/ Cond. Deseasonalize & Detrending</td>\n",
       "      <td id=\"T_18dcc_row13_col1\" class=\"data row13 col1\" >1.0740</td>\n",
       "      <td id=\"T_18dcc_row13_col2\" class=\"data row13 col2\" >0.9348</td>\n",
       "      <td id=\"T_18dcc_row13_col3\" class=\"data row13 col3\" >8425.7243</td>\n",
       "      <td id=\"T_18dcc_row13_col4\" class=\"data row13 col4\" >9050.5944</td>\n",
       "      <td id=\"T_18dcc_row13_col5\" class=\"data row13 col5\" >0.2610</td>\n",
       "      <td id=\"T_18dcc_row13_col6\" class=\"data row13 col6\" >0.3051</td>\n",
       "      <td id=\"T_18dcc_row13_col7\" class=\"data row13 col7\" >-39.3758</td>\n",
       "      <td id=\"T_18dcc_row13_col8\" class=\"data row13 col8\" >0.6880</td>\n",
       "    </tr>\n",
       "    <tr>\n",
       "      <th id=\"T_18dcc_level0_row14\" class=\"row_heading level0 row14\" >lightgbm_cds_dt</th>\n",
       "      <td id=\"T_18dcc_row14_col0\" class=\"data row14 col0\" >Light Gradient Boosting w/ Cond. Deseasonalize & Detrending</td>\n",
       "      <td id=\"T_18dcc_row14_col1\" class=\"data row14 col1\" >1.1099</td>\n",
       "      <td id=\"T_18dcc_row14_col2\" class=\"data row14 col2\" >0.9708</td>\n",
       "      <td id=\"T_18dcc_row14_col3\" class=\"data row14 col3\" >8631.6636</td>\n",
       "      <td id=\"T_18dcc_row14_col4\" class=\"data row14 col4\" >9337.7019</td>\n",
       "      <td id=\"T_18dcc_row14_col5\" class=\"data row14 col5\" >0.2646</td>\n",
       "      <td id=\"T_18dcc_row14_col6\" class=\"data row14 col6\" >0.2935</td>\n",
       "      <td id=\"T_18dcc_row14_col7\" class=\"data row14 col7\" >-36.7928</td>\n",
       "      <td id=\"T_18dcc_row14_col8\" class=\"data row14 col8\" >0.0800</td>\n",
       "    </tr>\n",
       "    <tr>\n",
       "      <th id=\"T_18dcc_level0_row15\" class=\"row_heading level0 row15\" >croston</th>\n",
       "      <td id=\"T_18dcc_row15_col0\" class=\"data row15 col0\" >Croston</td>\n",
       "      <td id=\"T_18dcc_row15_col1\" class=\"data row15 col1\" >1.3061</td>\n",
       "      <td id=\"T_18dcc_row15_col2\" class=\"data row15 col2\" >1.1332</td>\n",
       "      <td id=\"T_18dcc_row15_col3\" class=\"data row15 col3\" >10149.7485</td>\n",
       "      <td id=\"T_18dcc_row15_col4\" class=\"data row15 col4\" >10889.1998</td>\n",
       "      <td id=\"T_18dcc_row15_col5\" class=\"data row15 col5\" >0.2953</td>\n",
       "      <td id=\"T_18dcc_row15_col6\" class=\"data row15 col6\" >0.3616</td>\n",
       "      <td id=\"T_18dcc_row15_col7\" class=\"data row15 col7\" >-49.3089</td>\n",
       "      <td id=\"T_18dcc_row15_col8\" class=\"data row15 col8\" >0.7640</td>\n",
       "    </tr>\n",
       "    <tr>\n",
       "      <th id=\"T_18dcc_level0_row16\" class=\"row_heading level0 row16\" >arima</th>\n",
       "      <td id=\"T_18dcc_row16_col0\" class=\"data row16 col0\" >ARIMA</td>\n",
       "      <td id=\"T_18dcc_row16_col1\" class=\"data row16 col1\" >1.3509</td>\n",
       "      <td id=\"T_18dcc_row16_col2\" class=\"data row16 col2\" >1.1553</td>\n",
       "      <td id=\"T_18dcc_row16_col3\" class=\"data row16 col3\" >10437.0303</td>\n",
       "      <td id=\"T_18dcc_row16_col4\" class=\"data row16 col4\" >11049.3126</td>\n",
       "      <td id=\"T_18dcc_row16_col5\" class=\"data row16 col5\" >0.3345</td>\n",
       "      <td id=\"T_18dcc_row16_col6\" class=\"data row16 col6\" >0.3928</td>\n",
       "      <td id=\"T_18dcc_row16_col7\" class=\"data row16 col7\" >-34.5147</td>\n",
       "      <td id=\"T_18dcc_row16_col8\" class=\"data row16 col8\" >1.4360</td>\n",
       "    </tr>\n",
       "    <tr>\n",
       "      <th id=\"T_18dcc_level0_row17\" class=\"row_heading level0 row17\" >auto_arima</th>\n",
       "      <td id=\"T_18dcc_row17_col0\" class=\"data row17 col0\" >Auto ARIMA</td>\n",
       "      <td id=\"T_18dcc_row17_col1\" class=\"data row17 col1\" >1.5429</td>\n",
       "      <td id=\"T_18dcc_row17_col2\" class=\"data row17 col2\" >1.3133</td>\n",
       "      <td id=\"T_18dcc_row17_col3\" class=\"data row17 col3\" >11862.4096</td>\n",
       "      <td id=\"T_18dcc_row17_col4\" class=\"data row17 col4\" >12512.6702</td>\n",
       "      <td id=\"T_18dcc_row17_col5\" class=\"data row17 col5\" >0.4000</td>\n",
       "      <td id=\"T_18dcc_row17_col6\" class=\"data row17 col6\" >0.5585</td>\n",
       "      <td id=\"T_18dcc_row17_col7\" class=\"data row17 col7\" >-29.4237</td>\n",
       "      <td id=\"T_18dcc_row17_col8\" class=\"data row17 col8\" >1.0540</td>\n",
       "    </tr>\n",
       "  </tbody>\n",
       "</table>\n"
      ],
      "text/plain": [
       "<pandas.io.formats.style.Styler at 0x23c4ae45d90>"
      ]
     },
     "metadata": {},
     "output_type": "display_data"
    },
    {
     "data": {
      "text/html": [],
      "text/plain": [
       "<IPython.core.display.HTML object>"
      ]
     },
     "metadata": {},
     "output_type": "display_data"
    }
   ],
   "source": [
    "best = compare_models(sort = 'MAE', n_select=5)"
   ]
  },
  {
   "cell_type": "code",
   "execution_count": 9,
   "metadata": {},
   "outputs": [],
   "source": [
    "import pickle \n",
    "\n",
    "with open('best_model.pkl', 'wb') as file: \n",
    "    pickle.dump(best, file) "
   ]
  },
  {
   "cell_type": "code",
   "execution_count": 10,
   "metadata": {},
   "outputs": [
    {
     "name": "stdout",
     "output_type": "stream",
     "text": [
      "[BaseCdsDtForecaster(fe_target_rr=[WindowSummarizer(lag_feature={'lag': [1]},\n",
      "                                                   n_jobs=1)],\n",
      "                    regressor=GradientBoostingRegressor(random_state=123),\n",
      "                    window_length=1), BaseCdsDtForecaster(fe_target_rr=[WindowSummarizer(lag_feature={'lag': [1]},\n",
      "                                                   n_jobs=1)],\n",
      "                    regressor=AdaBoostRegressor(random_state=123),\n",
      "                    window_length=1), BaseCdsDtForecaster(fe_target_rr=[WindowSummarizer(lag_feature={'lag': [1]},\n",
      "                                                   n_jobs=1)],\n",
      "                    regressor=RandomForestRegressor(n_jobs=-1, random_state=123),\n",
      "                    window_length=1), BaseCdsDtForecaster(fe_target_rr=[WindowSummarizer(lag_feature={'lag': [1]},\n",
      "                                                   n_jobs=1)],\n",
      "                    regressor=DecisionTreeRegressor(random_state=123),\n",
      "                    window_length=1), BaseCdsDtForecaster(fe_target_rr=[WindowSummarizer(lag_feature={'lag': [1]},\n",
      "                                                   n_jobs=1)],\n",
      "                    regressor=OrthogonalMatchingPursuit(), window_length=1)]\n"
     ]
    }
   ],
   "source": [
    "import pickle\n",
    "\n",
    "with open('best_model.pkl', 'rb') as file: \n",
    "      \n",
    "    # Call load method to deserialze \n",
    "    best_2 = pickle.load(file) \n",
    "\n",
    "print(best_2)"
   ]
  },
  {
   "cell_type": "markdown",
   "metadata": {},
   "source": [
    "Predict 6 months into the future!"
   ]
  },
  {
   "cell_type": "code",
   "execution_count": 11,
   "metadata": {},
   "outputs": [
    {
     "data": {
      "application/vnd.plotly.v1+json": {
       "config": {
        "plotlyServerURL": "https://plot.ly"
       },
       "data": [
        {
         "line": {
          "color": "rgb(31, 119, 180)",
          "width": 2
         },
         "marker": {
          "color": "rgb(31, 119, 180)",
          "size": 5
         },
         "mode": "lines+markers",
         "name": "nr_cyclists",
         "type": "scattergl",
         "x": [
          0,
          1,
          2,
          3,
          4,
          5,
          6,
          7,
          8,
          9,
          10,
          11,
          12,
          13,
          14,
          15,
          16,
          17,
          18,
          19,
          20,
          21,
          22,
          23,
          24,
          25,
          26,
          27,
          28,
          29,
          30,
          31,
          32,
          33,
          34,
          35,
          36,
          37,
          38,
          39,
          40,
          41,
          42,
          43,
          44,
          45
         ],
         "xaxis": "x",
         "y": [
          2067,
          26496,
          22445,
          23922,
          20133,
          20084,
          29463,
          12313,
          17217,
          8130,
          10,
          15475,
          26137,
          23939,
          24935,
          35346,
          25388,
          23946,
          37234,
          26862,
          17895,
          13201,
          7493,
          0,
          16250,
          21376,
          26651,
          28824,
          38937,
          41719,
          42145,
          43263,
          31287,
          20123,
          21940,
          27881,
          29540,
          28246,
          38566,
          34075,
          24251,
          29626,
          38070,
          null,
          null,
          null
         ],
         "yaxis": "y"
        },
        {
         "line": {
          "color": "rgb(255, 127, 14)",
          "width": 2
         },
         "marker": {
          "color": "rgb(255, 127, 14)",
          "size": 5
         },
         "mode": "lines+markers",
         "name": "GradientBoostingRegressor",
         "type": "scattergl",
         "x": [
          0,
          1,
          2,
          3,
          4,
          5,
          6,
          7,
          8,
          9,
          10,
          11,
          12,
          13,
          14,
          15,
          16,
          17,
          18,
          19,
          20,
          21,
          22,
          23,
          24,
          25,
          26,
          27,
          28,
          29,
          30,
          31,
          32,
          33,
          34,
          35,
          36,
          37,
          38,
          39,
          40,
          41,
          42,
          43,
          44,
          45
         ],
         "xaxis": "x",
         "y": [
          null,
          null,
          null,
          null,
          null,
          null,
          null,
          null,
          null,
          null,
          null,
          null,
          null,
          null,
          null,
          null,
          null,
          null,
          null,
          null,
          null,
          null,
          null,
          null,
          null,
          null,
          null,
          null,
          null,
          null,
          null,
          null,
          null,
          null,
          null,
          null,
          null,
          null,
          null,
          null,
          40128.3353,
          35852.2327,
          43893.9339,
          30532.3539,
          28506.6747,
          29616.6048
         ],
         "yaxis": "y"
        }
       ],
       "layout": {
        "showlegend": true,
        "template": {
         "data": {
          "bar": [
           {
            "error_x": {
             "color": "rgb(51,51,51)"
            },
            "error_y": {
             "color": "rgb(51,51,51)"
            },
            "marker": {
             "line": {
              "color": "rgb(237,237,237)",
              "width": 0.5
             },
             "pattern": {
              "fillmode": "overlay",
              "size": 10,
              "solidity": 0.2
             }
            },
            "type": "bar"
           }
          ],
          "barpolar": [
           {
            "marker": {
             "line": {
              "color": "rgb(237,237,237)",
              "width": 0.5
             },
             "pattern": {
              "fillmode": "overlay",
              "size": 10,
              "solidity": 0.2
             }
            },
            "type": "barpolar"
           }
          ],
          "carpet": [
           {
            "aaxis": {
             "endlinecolor": "rgb(51,51,51)",
             "gridcolor": "white",
             "linecolor": "white",
             "minorgridcolor": "white",
             "startlinecolor": "rgb(51,51,51)"
            },
            "baxis": {
             "endlinecolor": "rgb(51,51,51)",
             "gridcolor": "white",
             "linecolor": "white",
             "minorgridcolor": "white",
             "startlinecolor": "rgb(51,51,51)"
            },
            "type": "carpet"
           }
          ],
          "choropleth": [
           {
            "colorbar": {
             "outlinewidth": 0,
             "tickcolor": "rgb(237,237,237)",
             "ticklen": 6,
             "ticks": "inside"
            },
            "type": "choropleth"
           }
          ],
          "contour": [
           {
            "colorbar": {
             "outlinewidth": 0,
             "tickcolor": "rgb(237,237,237)",
             "ticklen": 6,
             "ticks": "inside"
            },
            "colorscale": [
             [
              0,
              "rgb(20,44,66)"
             ],
             [
              1,
              "rgb(90,179,244)"
             ]
            ],
            "type": "contour"
           }
          ],
          "contourcarpet": [
           {
            "colorbar": {
             "outlinewidth": 0,
             "tickcolor": "rgb(237,237,237)",
             "ticklen": 6,
             "ticks": "inside"
            },
            "type": "contourcarpet"
           }
          ],
          "heatmap": [
           {
            "colorbar": {
             "outlinewidth": 0,
             "tickcolor": "rgb(237,237,237)",
             "ticklen": 6,
             "ticks": "inside"
            },
            "colorscale": [
             [
              0,
              "rgb(20,44,66)"
             ],
             [
              1,
              "rgb(90,179,244)"
             ]
            ],
            "type": "heatmap"
           }
          ],
          "heatmapgl": [
           {
            "colorbar": {
             "outlinewidth": 0,
             "tickcolor": "rgb(237,237,237)",
             "ticklen": 6,
             "ticks": "inside"
            },
            "colorscale": [
             [
              0,
              "rgb(20,44,66)"
             ],
             [
              1,
              "rgb(90,179,244)"
             ]
            ],
            "type": "heatmapgl"
           }
          ],
          "histogram": [
           {
            "marker": {
             "pattern": {
              "fillmode": "overlay",
              "size": 10,
              "solidity": 0.2
             }
            },
            "type": "histogram"
           }
          ],
          "histogram2d": [
           {
            "colorbar": {
             "outlinewidth": 0,
             "tickcolor": "rgb(237,237,237)",
             "ticklen": 6,
             "ticks": "inside"
            },
            "colorscale": [
             [
              0,
              "rgb(20,44,66)"
             ],
             [
              1,
              "rgb(90,179,244)"
             ]
            ],
            "type": "histogram2d"
           }
          ],
          "histogram2dcontour": [
           {
            "colorbar": {
             "outlinewidth": 0,
             "tickcolor": "rgb(237,237,237)",
             "ticklen": 6,
             "ticks": "inside"
            },
            "colorscale": [
             [
              0,
              "rgb(20,44,66)"
             ],
             [
              1,
              "rgb(90,179,244)"
             ]
            ],
            "type": "histogram2dcontour"
           }
          ],
          "mesh3d": [
           {
            "colorbar": {
             "outlinewidth": 0,
             "tickcolor": "rgb(237,237,237)",
             "ticklen": 6,
             "ticks": "inside"
            },
            "type": "mesh3d"
           }
          ],
          "parcoords": [
           {
            "line": {
             "colorbar": {
              "outlinewidth": 0,
              "tickcolor": "rgb(237,237,237)",
              "ticklen": 6,
              "ticks": "inside"
             }
            },
            "type": "parcoords"
           }
          ],
          "pie": [
           {
            "automargin": true,
            "type": "pie"
           }
          ],
          "scatter": [
           {
            "fillpattern": {
             "fillmode": "overlay",
             "size": 10,
             "solidity": 0.2
            },
            "type": "scatter"
           }
          ],
          "scatter3d": [
           {
            "line": {
             "colorbar": {
              "outlinewidth": 0,
              "tickcolor": "rgb(237,237,237)",
              "ticklen": 6,
              "ticks": "inside"
             }
            },
            "marker": {
             "colorbar": {
              "outlinewidth": 0,
              "tickcolor": "rgb(237,237,237)",
              "ticklen": 6,
              "ticks": "inside"
             }
            },
            "type": "scatter3d"
           }
          ],
          "scattercarpet": [
           {
            "marker": {
             "colorbar": {
              "outlinewidth": 0,
              "tickcolor": "rgb(237,237,237)",
              "ticklen": 6,
              "ticks": "inside"
             }
            },
            "type": "scattercarpet"
           }
          ],
          "scattergeo": [
           {
            "marker": {
             "colorbar": {
              "outlinewidth": 0,
              "tickcolor": "rgb(237,237,237)",
              "ticklen": 6,
              "ticks": "inside"
             }
            },
            "type": "scattergeo"
           }
          ],
          "scattergl": [
           {
            "marker": {
             "colorbar": {
              "outlinewidth": 0,
              "tickcolor": "rgb(237,237,237)",
              "ticklen": 6,
              "ticks": "inside"
             }
            },
            "type": "scattergl"
           }
          ],
          "scattermapbox": [
           {
            "marker": {
             "colorbar": {
              "outlinewidth": 0,
              "tickcolor": "rgb(237,237,237)",
              "ticklen": 6,
              "ticks": "inside"
             }
            },
            "type": "scattermapbox"
           }
          ],
          "scatterpolar": [
           {
            "marker": {
             "colorbar": {
              "outlinewidth": 0,
              "tickcolor": "rgb(237,237,237)",
              "ticklen": 6,
              "ticks": "inside"
             }
            },
            "type": "scatterpolar"
           }
          ],
          "scatterpolargl": [
           {
            "marker": {
             "colorbar": {
              "outlinewidth": 0,
              "tickcolor": "rgb(237,237,237)",
              "ticklen": 6,
              "ticks": "inside"
             }
            },
            "type": "scatterpolargl"
           }
          ],
          "scatterternary": [
           {
            "marker": {
             "colorbar": {
              "outlinewidth": 0,
              "tickcolor": "rgb(237,237,237)",
              "ticklen": 6,
              "ticks": "inside"
             }
            },
            "type": "scatterternary"
           }
          ],
          "surface": [
           {
            "colorbar": {
             "outlinewidth": 0,
             "tickcolor": "rgb(237,237,237)",
             "ticklen": 6,
             "ticks": "inside"
            },
            "colorscale": [
             [
              0,
              "rgb(20,44,66)"
             ],
             [
              1,
              "rgb(90,179,244)"
             ]
            ],
            "type": "surface"
           }
          ],
          "table": [
           {
            "cells": {
             "fill": {
              "color": "rgb(237,237,237)"
             },
             "line": {
              "color": "white"
             }
            },
            "header": {
             "fill": {
              "color": "rgb(217,217,217)"
             },
             "line": {
              "color": "white"
             }
            },
            "type": "table"
           }
          ]
         },
         "layout": {
          "annotationdefaults": {
           "arrowhead": 0,
           "arrowwidth": 1
          },
          "autotypenumbers": "strict",
          "coloraxis": {
           "colorbar": {
            "outlinewidth": 0,
            "tickcolor": "rgb(237,237,237)",
            "ticklen": 6,
            "ticks": "inside"
           }
          },
          "colorscale": {
           "sequential": [
            [
             0,
             "rgb(20,44,66)"
            ],
            [
             1,
             "rgb(90,179,244)"
            ]
           ],
           "sequentialminus": [
            [
             0,
             "rgb(20,44,66)"
            ],
            [
             1,
             "rgb(90,179,244)"
            ]
           ]
          },
          "colorway": [
           "#F8766D",
           "#A3A500",
           "#00BF7D",
           "#00B0F6",
           "#E76BF3"
          ],
          "font": {
           "color": "rgb(51,51,51)"
          },
          "geo": {
           "bgcolor": "white",
           "lakecolor": "white",
           "landcolor": "rgb(237,237,237)",
           "showlakes": true,
           "showland": true,
           "subunitcolor": "white"
          },
          "hoverlabel": {
           "align": "left"
          },
          "hovermode": "closest",
          "paper_bgcolor": "white",
          "plot_bgcolor": "rgb(237,237,237)",
          "polar": {
           "angularaxis": {
            "gridcolor": "white",
            "linecolor": "white",
            "showgrid": true,
            "tickcolor": "rgb(51,51,51)",
            "ticks": "outside"
           },
           "bgcolor": "rgb(237,237,237)",
           "radialaxis": {
            "gridcolor": "white",
            "linecolor": "white",
            "showgrid": true,
            "tickcolor": "rgb(51,51,51)",
            "ticks": "outside"
           }
          },
          "scene": {
           "xaxis": {
            "backgroundcolor": "rgb(237,237,237)",
            "gridcolor": "white",
            "gridwidth": 2,
            "linecolor": "white",
            "showbackground": true,
            "showgrid": true,
            "tickcolor": "rgb(51,51,51)",
            "ticks": "outside",
            "zerolinecolor": "white"
           },
           "yaxis": {
            "backgroundcolor": "rgb(237,237,237)",
            "gridcolor": "white",
            "gridwidth": 2,
            "linecolor": "white",
            "showbackground": true,
            "showgrid": true,
            "tickcolor": "rgb(51,51,51)",
            "ticks": "outside",
            "zerolinecolor": "white"
           },
           "zaxis": {
            "backgroundcolor": "rgb(237,237,237)",
            "gridcolor": "white",
            "gridwidth": 2,
            "linecolor": "white",
            "showbackground": true,
            "showgrid": true,
            "tickcolor": "rgb(51,51,51)",
            "ticks": "outside",
            "zerolinecolor": "white"
           }
          },
          "shapedefaults": {
           "fillcolor": "black",
           "line": {
            "width": 0
           },
           "opacity": 0.3
          },
          "ternary": {
           "aaxis": {
            "gridcolor": "white",
            "linecolor": "white",
            "showgrid": true,
            "tickcolor": "rgb(51,51,51)",
            "ticks": "outside"
           },
           "baxis": {
            "gridcolor": "white",
            "linecolor": "white",
            "showgrid": true,
            "tickcolor": "rgb(51,51,51)",
            "ticks": "outside"
           },
           "bgcolor": "rgb(237,237,237)",
           "caxis": {
            "gridcolor": "white",
            "linecolor": "white",
            "showgrid": true,
            "tickcolor": "rgb(51,51,51)",
            "ticks": "outside"
           }
          },
          "xaxis": {
           "automargin": true,
           "gridcolor": "white",
           "linecolor": "white",
           "showgrid": true,
           "tickcolor": "rgb(51,51,51)",
           "ticks": "outside",
           "title": {
            "standoff": 15
           },
           "zerolinecolor": "white"
          },
          "yaxis": {
           "automargin": true,
           "gridcolor": "white",
           "linecolor": "white",
           "showgrid": true,
           "tickcolor": "rgb(51,51,51)",
           "ticks": "outside",
           "title": {
            "standoff": 15
           },
           "zerolinecolor": "white"
          }
         }
        },
        "title": {
         "text": "Actual vs. Forecast (Out-of-Sample)"
        },
        "xaxis": {
         "anchor": "y",
         "domain": [
          0,
          1
         ]
        },
        "yaxis": {
         "anchor": "x",
         "domain": [
          0,
          1
         ]
        }
       }
      }
     },
     "metadata": {},
     "output_type": "display_data"
    }
   ],
   "source": [
    "# DELETE\n",
    "plot_model(best[0], plot = 'forecast', data_kwargs = {'fh' : 6})"
   ]
  },
  {
   "cell_type": "markdown",
   "metadata": {},
   "source": [
    "Now compare this model to the other four you stored. Some provide a pretty prediction, others are plain bad. Still it's a good start."
   ]
  },
  {
   "cell_type": "code",
   "execution_count": 15,
   "metadata": {},
   "outputs": [
    {
     "data": {
      "application/vnd.plotly.v1+json": {
       "config": {
        "plotlyServerURL": "https://plot.ly"
       },
       "data": [
        {
         "line": {
          "color": "rgb(31, 119, 180)",
          "width": 2
         },
         "marker": {
          "color": "rgb(31, 119, 180)",
          "size": 5
         },
         "mode": "lines+markers",
         "name": "nr_cyclists",
         "type": "scattergl",
         "x": [
          0,
          1,
          2,
          3,
          4,
          5,
          6,
          7,
          8,
          9,
          10,
          11,
          12,
          13,
          14,
          15,
          16,
          17,
          18,
          19,
          20,
          21,
          22,
          23,
          24,
          25,
          26,
          27,
          28,
          29,
          30,
          31,
          32,
          33,
          34,
          35,
          36,
          37,
          38,
          39,
          40,
          41,
          42,
          43,
          44,
          45
         ],
         "xaxis": "x",
         "y": [
          2067,
          26496,
          22445,
          23922,
          20133,
          20084,
          29463,
          12313,
          17217,
          8130,
          10,
          15475,
          26137,
          23939,
          24935,
          35346,
          25388,
          23946,
          37234,
          26862,
          17895,
          13201,
          7493,
          0,
          16250,
          21376,
          26651,
          28824,
          38937,
          41719,
          42145,
          43263,
          31287,
          20123,
          21940,
          27881,
          29540,
          28246,
          38566,
          34075,
          24251,
          29626,
          38070,
          null,
          null,
          null
         ],
         "yaxis": "y"
        },
        {
         "line": {
          "color": "rgb(255, 127, 14)",
          "width": 2
         },
         "marker": {
          "color": "rgb(255, 127, 14)",
          "size": 5
         },
         "mode": "lines+markers",
         "name": "AdaBoostRegressor",
         "type": "scattergl",
         "x": [
          0,
          1,
          2,
          3,
          4,
          5,
          6,
          7,
          8,
          9,
          10,
          11,
          12,
          13,
          14,
          15,
          16,
          17,
          18,
          19,
          20,
          21,
          22,
          23,
          24,
          25,
          26,
          27,
          28,
          29,
          30,
          31,
          32,
          33,
          34,
          35,
          36,
          37,
          38,
          39,
          40,
          41,
          42,
          43,
          44,
          45
         ],
         "xaxis": "x",
         "y": [
          null,
          null,
          null,
          null,
          null,
          null,
          null,
          null,
          null,
          null,
          null,
          null,
          null,
          null,
          null,
          null,
          null,
          null,
          null,
          null,
          null,
          null,
          null,
          null,
          null,
          null,
          null,
          null,
          null,
          null,
          null,
          null,
          null,
          null,
          null,
          null,
          null,
          null,
          null,
          null,
          38169.0308,
          39915.9141,
          41440.3992,
          25847.0739,
          26281.1932,
          26715.3126
         ],
         "yaxis": "y"
        }
       ],
       "layout": {
        "showlegend": true,
        "template": {
         "data": {
          "bar": [
           {
            "error_x": {
             "color": "rgb(51,51,51)"
            },
            "error_y": {
             "color": "rgb(51,51,51)"
            },
            "marker": {
             "line": {
              "color": "rgb(237,237,237)",
              "width": 0.5
             },
             "pattern": {
              "fillmode": "overlay",
              "size": 10,
              "solidity": 0.2
             }
            },
            "type": "bar"
           }
          ],
          "barpolar": [
           {
            "marker": {
             "line": {
              "color": "rgb(237,237,237)",
              "width": 0.5
             },
             "pattern": {
              "fillmode": "overlay",
              "size": 10,
              "solidity": 0.2
             }
            },
            "type": "barpolar"
           }
          ],
          "carpet": [
           {
            "aaxis": {
             "endlinecolor": "rgb(51,51,51)",
             "gridcolor": "white",
             "linecolor": "white",
             "minorgridcolor": "white",
             "startlinecolor": "rgb(51,51,51)"
            },
            "baxis": {
             "endlinecolor": "rgb(51,51,51)",
             "gridcolor": "white",
             "linecolor": "white",
             "minorgridcolor": "white",
             "startlinecolor": "rgb(51,51,51)"
            },
            "type": "carpet"
           }
          ],
          "choropleth": [
           {
            "colorbar": {
             "outlinewidth": 0,
             "tickcolor": "rgb(237,237,237)",
             "ticklen": 6,
             "ticks": "inside"
            },
            "type": "choropleth"
           }
          ],
          "contour": [
           {
            "colorbar": {
             "outlinewidth": 0,
             "tickcolor": "rgb(237,237,237)",
             "ticklen": 6,
             "ticks": "inside"
            },
            "colorscale": [
             [
              0,
              "rgb(20,44,66)"
             ],
             [
              1,
              "rgb(90,179,244)"
             ]
            ],
            "type": "contour"
           }
          ],
          "contourcarpet": [
           {
            "colorbar": {
             "outlinewidth": 0,
             "tickcolor": "rgb(237,237,237)",
             "ticklen": 6,
             "ticks": "inside"
            },
            "type": "contourcarpet"
           }
          ],
          "heatmap": [
           {
            "colorbar": {
             "outlinewidth": 0,
             "tickcolor": "rgb(237,237,237)",
             "ticklen": 6,
             "ticks": "inside"
            },
            "colorscale": [
             [
              0,
              "rgb(20,44,66)"
             ],
             [
              1,
              "rgb(90,179,244)"
             ]
            ],
            "type": "heatmap"
           }
          ],
          "heatmapgl": [
           {
            "colorbar": {
             "outlinewidth": 0,
             "tickcolor": "rgb(237,237,237)",
             "ticklen": 6,
             "ticks": "inside"
            },
            "colorscale": [
             [
              0,
              "rgb(20,44,66)"
             ],
             [
              1,
              "rgb(90,179,244)"
             ]
            ],
            "type": "heatmapgl"
           }
          ],
          "histogram": [
           {
            "marker": {
             "pattern": {
              "fillmode": "overlay",
              "size": 10,
              "solidity": 0.2
             }
            },
            "type": "histogram"
           }
          ],
          "histogram2d": [
           {
            "colorbar": {
             "outlinewidth": 0,
             "tickcolor": "rgb(237,237,237)",
             "ticklen": 6,
             "ticks": "inside"
            },
            "colorscale": [
             [
              0,
              "rgb(20,44,66)"
             ],
             [
              1,
              "rgb(90,179,244)"
             ]
            ],
            "type": "histogram2d"
           }
          ],
          "histogram2dcontour": [
           {
            "colorbar": {
             "outlinewidth": 0,
             "tickcolor": "rgb(237,237,237)",
             "ticklen": 6,
             "ticks": "inside"
            },
            "colorscale": [
             [
              0,
              "rgb(20,44,66)"
             ],
             [
              1,
              "rgb(90,179,244)"
             ]
            ],
            "type": "histogram2dcontour"
           }
          ],
          "mesh3d": [
           {
            "colorbar": {
             "outlinewidth": 0,
             "tickcolor": "rgb(237,237,237)",
             "ticklen": 6,
             "ticks": "inside"
            },
            "type": "mesh3d"
           }
          ],
          "parcoords": [
           {
            "line": {
             "colorbar": {
              "outlinewidth": 0,
              "tickcolor": "rgb(237,237,237)",
              "ticklen": 6,
              "ticks": "inside"
             }
            },
            "type": "parcoords"
           }
          ],
          "pie": [
           {
            "automargin": true,
            "type": "pie"
           }
          ],
          "scatter": [
           {
            "fillpattern": {
             "fillmode": "overlay",
             "size": 10,
             "solidity": 0.2
            },
            "type": "scatter"
           }
          ],
          "scatter3d": [
           {
            "line": {
             "colorbar": {
              "outlinewidth": 0,
              "tickcolor": "rgb(237,237,237)",
              "ticklen": 6,
              "ticks": "inside"
             }
            },
            "marker": {
             "colorbar": {
              "outlinewidth": 0,
              "tickcolor": "rgb(237,237,237)",
              "ticklen": 6,
              "ticks": "inside"
             }
            },
            "type": "scatter3d"
           }
          ],
          "scattercarpet": [
           {
            "marker": {
             "colorbar": {
              "outlinewidth": 0,
              "tickcolor": "rgb(237,237,237)",
              "ticklen": 6,
              "ticks": "inside"
             }
            },
            "type": "scattercarpet"
           }
          ],
          "scattergeo": [
           {
            "marker": {
             "colorbar": {
              "outlinewidth": 0,
              "tickcolor": "rgb(237,237,237)",
              "ticklen": 6,
              "ticks": "inside"
             }
            },
            "type": "scattergeo"
           }
          ],
          "scattergl": [
           {
            "marker": {
             "colorbar": {
              "outlinewidth": 0,
              "tickcolor": "rgb(237,237,237)",
              "ticklen": 6,
              "ticks": "inside"
             }
            },
            "type": "scattergl"
           }
          ],
          "scattermapbox": [
           {
            "marker": {
             "colorbar": {
              "outlinewidth": 0,
              "tickcolor": "rgb(237,237,237)",
              "ticklen": 6,
              "ticks": "inside"
             }
            },
            "type": "scattermapbox"
           }
          ],
          "scatterpolar": [
           {
            "marker": {
             "colorbar": {
              "outlinewidth": 0,
              "tickcolor": "rgb(237,237,237)",
              "ticklen": 6,
              "ticks": "inside"
             }
            },
            "type": "scatterpolar"
           }
          ],
          "scatterpolargl": [
           {
            "marker": {
             "colorbar": {
              "outlinewidth": 0,
              "tickcolor": "rgb(237,237,237)",
              "ticklen": 6,
              "ticks": "inside"
             }
            },
            "type": "scatterpolargl"
           }
          ],
          "scatterternary": [
           {
            "marker": {
             "colorbar": {
              "outlinewidth": 0,
              "tickcolor": "rgb(237,237,237)",
              "ticklen": 6,
              "ticks": "inside"
             }
            },
            "type": "scatterternary"
           }
          ],
          "surface": [
           {
            "colorbar": {
             "outlinewidth": 0,
             "tickcolor": "rgb(237,237,237)",
             "ticklen": 6,
             "ticks": "inside"
            },
            "colorscale": [
             [
              0,
              "rgb(20,44,66)"
             ],
             [
              1,
              "rgb(90,179,244)"
             ]
            ],
            "type": "surface"
           }
          ],
          "table": [
           {
            "cells": {
             "fill": {
              "color": "rgb(237,237,237)"
             },
             "line": {
              "color": "white"
             }
            },
            "header": {
             "fill": {
              "color": "rgb(217,217,217)"
             },
             "line": {
              "color": "white"
             }
            },
            "type": "table"
           }
          ]
         },
         "layout": {
          "annotationdefaults": {
           "arrowhead": 0,
           "arrowwidth": 1
          },
          "autotypenumbers": "strict",
          "coloraxis": {
           "colorbar": {
            "outlinewidth": 0,
            "tickcolor": "rgb(237,237,237)",
            "ticklen": 6,
            "ticks": "inside"
           }
          },
          "colorscale": {
           "sequential": [
            [
             0,
             "rgb(20,44,66)"
            ],
            [
             1,
             "rgb(90,179,244)"
            ]
           ],
           "sequentialminus": [
            [
             0,
             "rgb(20,44,66)"
            ],
            [
             1,
             "rgb(90,179,244)"
            ]
           ]
          },
          "colorway": [
           "#F8766D",
           "#A3A500",
           "#00BF7D",
           "#00B0F6",
           "#E76BF3"
          ],
          "font": {
           "color": "rgb(51,51,51)"
          },
          "geo": {
           "bgcolor": "white",
           "lakecolor": "white",
           "landcolor": "rgb(237,237,237)",
           "showlakes": true,
           "showland": true,
           "subunitcolor": "white"
          },
          "hoverlabel": {
           "align": "left"
          },
          "hovermode": "closest",
          "paper_bgcolor": "white",
          "plot_bgcolor": "rgb(237,237,237)",
          "polar": {
           "angularaxis": {
            "gridcolor": "white",
            "linecolor": "white",
            "showgrid": true,
            "tickcolor": "rgb(51,51,51)",
            "ticks": "outside"
           },
           "bgcolor": "rgb(237,237,237)",
           "radialaxis": {
            "gridcolor": "white",
            "linecolor": "white",
            "showgrid": true,
            "tickcolor": "rgb(51,51,51)",
            "ticks": "outside"
           }
          },
          "scene": {
           "xaxis": {
            "backgroundcolor": "rgb(237,237,237)",
            "gridcolor": "white",
            "gridwidth": 2,
            "linecolor": "white",
            "showbackground": true,
            "showgrid": true,
            "tickcolor": "rgb(51,51,51)",
            "ticks": "outside",
            "zerolinecolor": "white"
           },
           "yaxis": {
            "backgroundcolor": "rgb(237,237,237)",
            "gridcolor": "white",
            "gridwidth": 2,
            "linecolor": "white",
            "showbackground": true,
            "showgrid": true,
            "tickcolor": "rgb(51,51,51)",
            "ticks": "outside",
            "zerolinecolor": "white"
           },
           "zaxis": {
            "backgroundcolor": "rgb(237,237,237)",
            "gridcolor": "white",
            "gridwidth": 2,
            "linecolor": "white",
            "showbackground": true,
            "showgrid": true,
            "tickcolor": "rgb(51,51,51)",
            "ticks": "outside",
            "zerolinecolor": "white"
           }
          },
          "shapedefaults": {
           "fillcolor": "black",
           "line": {
            "width": 0
           },
           "opacity": 0.3
          },
          "ternary": {
           "aaxis": {
            "gridcolor": "white",
            "linecolor": "white",
            "showgrid": true,
            "tickcolor": "rgb(51,51,51)",
            "ticks": "outside"
           },
           "baxis": {
            "gridcolor": "white",
            "linecolor": "white",
            "showgrid": true,
            "tickcolor": "rgb(51,51,51)",
            "ticks": "outside"
           },
           "bgcolor": "rgb(237,237,237)",
           "caxis": {
            "gridcolor": "white",
            "linecolor": "white",
            "showgrid": true,
            "tickcolor": "rgb(51,51,51)",
            "ticks": "outside"
           }
          },
          "xaxis": {
           "automargin": true,
           "gridcolor": "white",
           "linecolor": "white",
           "showgrid": true,
           "tickcolor": "rgb(51,51,51)",
           "ticks": "outside",
           "title": {
            "standoff": 15
           },
           "zerolinecolor": "white"
          },
          "yaxis": {
           "automargin": true,
           "gridcolor": "white",
           "linecolor": "white",
           "showgrid": true,
           "tickcolor": "rgb(51,51,51)",
           "ticks": "outside",
           "title": {
            "standoff": 15
           },
           "zerolinecolor": "white"
          }
         }
        },
        "title": {
         "text": "Actual vs. Forecast (Out-of-Sample)"
        },
        "xaxis": {
         "anchor": "y",
         "domain": [
          0,
          1
         ]
        },
        "yaxis": {
         "anchor": "x",
         "domain": [
          0,
          1
         ]
        }
       }
      }
     },
     "metadata": {},
     "output_type": "display_data"
    }
   ],
   "source": [
    "# DELETE\n",
    "plot_model(best[1], plot = 'forecast', data_kwargs = {'fh' : 6})"
   ]
  },
  {
   "cell_type": "markdown",
   "metadata": {},
   "source": [
    "There are a lot of other plots to be made. Experiment a bit!"
   ]
  },
  {
   "cell_type": "code",
   "execution_count": null,
   "metadata": {},
   "outputs": [],
   "source": [
    "#DELETE\n",
    "\n"
   ]
  }
 ],
 "metadata": {
  "kernelspec": {
   "display_name": "venv_pycaret",
   "language": "python",
   "name": "python3"
  },
  "language_info": {
   "codemirror_mode": {
    "name": "ipython",
    "version": 3
   },
   "file_extension": ".py",
   "mimetype": "text/x-python",
   "name": "python",
   "nbconvert_exporter": "python",
   "pygments_lexer": "ipython3",
   "version": "3.11.5"
  },
  "orig_nbformat": 4
 },
 "nbformat": 4,
 "nbformat_minor": 2
}
