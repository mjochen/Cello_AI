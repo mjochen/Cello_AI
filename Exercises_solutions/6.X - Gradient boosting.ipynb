{
 "cells": [
  {
   "cell_type": "code",
   "execution_count": null,
   "id": "6cf63d84",
   "metadata": {},
   "outputs": [],
   "source": [
    "import numpy as np\n",
    "import matplotlib.pyplot as plt\n",
    "from sklearn.datasets import make_regression\n",
    "from sklearn.ensemble import GradientBoostingRegressor\n",
    "from sklearn.metrics import mean_squared_error\n",
    "from sklearn.model_selection import train_test_split\n",
    "\n",
    "# Generate synthetic regression data\n",
    "X, y = make_regression(n_samples=500, n_features=10, noise=10, random_state=42)\n",
    "X_train, X_test, y_train, y_test = train_test_split(X, y, random_state=42)\n",
    "\n",
    "# Initialize model with warm_start=True to allow tracking\n",
    "gbr = GradientBoostingRegressor(n_estimators=100, learning_rate=0.1, warm_start=True, random_state=42)\n",
    "\n",
    "# Track training and test loss\n",
    "train_losses = []\n",
    "test_losses = []\n",
    "\n",
    "for i in range(1, 101):  # up to 100 trees\n",
    "    gbr.n_estimators = i\n",
    "    gbr.fit(X_train, y_train)\n",
    "\n",
    "    # Predict and calculate MSE\n",
    "    y_train_pred = gbr.predict(X_train)\n",
    "    y_test_pred = gbr.predict(X_test)\n",
    "\n",
    "    train_mse = mean_squared_error(y_train, y_train_pred)\n",
    "    test_mse = mean_squared_error(y_test, y_test_pred)\n",
    "\n",
    "    train_losses.append(train_mse)\n",
    "    test_losses.append(test_mse)\n",
    "\n",
    "# Plot loss curves\n",
    "plt.plot(train_losses, label=\"Train MSE\")\n",
    "plt.plot(test_losses, label=\"Test MSE\")\n",
    "plt.xlabel(\"Number of Trees (Boosting Iterations)\")\n",
    "plt.ylabel(\"Mean Squared Error\")\n",
    "plt.title(\"Gradient Boosting Loss Over Time\")\n",
    "plt.legend()\n",
    "plt.grid(True)\n",
    "plt.tight_layout()\n",
    "plt.show()\n"
   ]
  },
  {
   "cell_type": "markdown",
   "id": "0b4d8465",
   "metadata": {},
   "source": [
    "scikit-learn:"
   ]
  },
  {
   "cell_type": "code",
   "execution_count": null,
   "id": "9a675452",
   "metadata": {},
   "outputs": [],
   "source": [
    "from sklearn.ensemble import GradientBoostingClassifier\n",
    "model = GradientBoostingClassifier()\n",
    "model.fit(X_train, y_train)"
   ]
  },
  {
   "cell_type": "markdown",
   "id": "429634f9",
   "metadata": {},
   "source": [
    "XGBoost:"
   ]
  },
  {
   "cell_type": "code",
   "execution_count": null,
   "id": "40f365ea",
   "metadata": {},
   "outputs": [],
   "source": [
    "from xgboost import XGBClassifier\n",
    "model = XGBClassifier(use_label_encoder=False, eval_metric='mlogloss')\n",
    "model.fit(X_train, y_train)"
   ]
  },
  {
   "cell_type": "markdown",
   "id": "131f5c09",
   "metadata": {},
   "source": [
    "a side-by-side comparison of XGBoost vs scikit-learn Gradient Boosting on the same dataset?"
   ]
  }
 ],
 "metadata": {
  "language_info": {
   "name": "python"
  }
 },
 "nbformat": 4,
 "nbformat_minor": 5
}
