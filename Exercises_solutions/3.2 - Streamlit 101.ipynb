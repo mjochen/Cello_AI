{
 "cells": [
  {
   "cell_type": "markdown",
   "metadata": {},
   "source": [
    "# Jupyter vs Streamlit\n",
    "\n",
    "Jupyter notebooks are great to explore a dataset. Let's do that here: we have stored the titanic CSV in the subfolder \"files\". It's downloaded from [Kaggle](https://www.kaggle.com/datasets/vinicius150987/titanic3). And..."
   ]
  },
  {
   "cell_type": "code",
   "execution_count": null,
   "metadata": {},
   "outputs": [],
   "source": []
  }
 ],
 "metadata": {
  "language_info": {
   "name": "python"
  }
 },
 "nbformat": 4,
 "nbformat_minor": 2
}
