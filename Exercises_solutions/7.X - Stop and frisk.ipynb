{
 "cells": [
  {
   "cell_type": "markdown",
   "id": "2bc6eca6",
   "metadata": {},
   "source": [
    "https://www.nyclu.org/data/stop-and-frisk-data\n",
    "\n",
    "https://www.nyc.gov/site/nypd/stats/reports-analysis/stopfrisk.page\n",
    "\n"
   ]
  },
  {
   "cell_type": "code",
   "execution_count": 1,
   "id": "16abf1c5",
   "metadata": {},
   "outputs": [
    {
     "data": {
      "text/plain": [
       "0.9876543209876543"
      ]
     },
     "execution_count": 1,
     "metadata": {},
     "output_type": "execute_result"
    }
   ],
   "source": [
    "\"2023_nypd_stop_and_frisk_data.xlsx\"\n",
    "\n",
    "160/162"
   ]
  }
 ],
 "metadata": {
  "kernelspec": {
   "display_name": "venv",
   "language": "python",
   "name": "python3"
  },
  "language_info": {
   "codemirror_mode": {
    "name": "ipython",
    "version": 3
   },
   "file_extension": ".py",
   "mimetype": "text/x-python",
   "name": "python",
   "nbconvert_exporter": "python",
   "pygments_lexer": "ipython3",
   "version": "3.12.5"
  }
 },
 "nbformat": 4,
 "nbformat_minor": 5
}
