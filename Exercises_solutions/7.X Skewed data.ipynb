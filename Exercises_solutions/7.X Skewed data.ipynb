{
 "cells": [
  {
   "cell_type": "markdown",
   "metadata": {},
   "source": [
    "# Skewed data - example\n",
    "\n",
    "We all know the normal distribution. This occurs in any dataset with numbers about a population, like shoe sizes for all employees of a company, or the size of houses in a street or village. But sometimes the normal distribution seems to be toppling over in one or the other direction. What does that mean?\n",
    "\n",
    "![](files/2023-10-25-13-13-56.png)\n",
    "\n",
    "Let's look at some numbers. We've saved some grades in a pickle-file.\n"
   ]
  },
  {
   "cell_type": "code",
   "execution_count": null,
   "metadata": {},
   "outputs": [],
   "source": [
    "import pandas as pd\n",
    "import pickle\n",
    "\n",
    "with open('files/datasets.pickle', 'rb') as handle:\n",
    "    df = pickle.load(handle)\n",
    "    \n",
    "df.head()"
   ]
  },
  {
   "cell_type": "markdown",
   "metadata": {},
   "source": [
    "The dataset represent the distribution of scores students got on 3 different tests. Looking at the third test first:"
   ]
  },
  {
   "cell_type": "code",
   "execution_count": null,
   "metadata": {},
   "outputs": [],
   "source": [
    "df.test_3.plot()"
   ]
  },
  {
   "cell_type": "markdown",
   "metadata": {},
   "source": [
    "This is a normal distribution. Mean and median are at as good as the same value. This means it was a good test:\n",
    "\n",
    "* There were some students who didn't get it, and they got bad grades\n",
    "* Most students got a mediocre value, which means they make up the bulk of grades\n",
    "* Some students managed to excel, getting really high grades\n",
    "\n",
    "Now let's take a look at the first test:"
   ]
  },
  {
   "cell_type": "code",
   "execution_count": null,
   "metadata": {},
   "outputs": [],
   "source": [
    "df.test_1.plot()"
   ]
  },
  {
   "cell_type": "markdown",
   "metadata": {},
   "source": [
    "The mean is bigger that the median. This is a right or positive skew.\n",
    "\n",
    "This test was way to hard:\n",
    "\n",
    "* The bulk of the students got bad grades. They all had some questions right, but missed most of them.\n",
    "* Some students managed to get good grades, but only a few of them."
   ]
  },
  {
   "cell_type": "code",
   "execution_count": null,
   "metadata": {},
   "outputs": [],
   "source": [
    "df.test_2.plot()"
   ]
  },
  {
   "cell_type": "markdown",
   "metadata": {},
   "source": [
    "The mean is smaller that the median. This is a right or positive skew.\n",
    "\n",
    "This test was way to easy:\n",
    "\n",
    "* The students that remembered _nothing_ of the course gat a bad grade, but...\n",
    "* Everyone who payed just a little bit of attention got really good grades. Really excelling was impossible.\n",
    "\n",
    "Examples of a positive (test 1) skewed dataset:\n",
    "\n",
    "* Income\n",
    "* Amount of pets people own\n",
    "\n",
    "Examples of a negative (test 2) skewed dataset:\n",
    "\n",
    "* Distances of long olympic long jump\n",
    "* Age of dying"
   ]
  }
 ],
 "metadata": {
  "kernelspec": {
   "display_name": "venv",
   "language": "python",
   "name": "python3"
  },
  "language_info": {
   "codemirror_mode": {
    "name": "ipython",
    "version": 3
   },
   "file_extension": ".py",
   "mimetype": "text/x-python",
   "name": "python",
   "nbconvert_exporter": "python",
   "pygments_lexer": "ipython3",
   "version": "3.11.5"
  }
 },
 "nbformat": 4,
 "nbformat_minor": 2
}
