{
 "cells": [
  {
   "cell_type": "code",
   "execution_count": 4,
   "metadata": {},
   "outputs": [],
   "source": [
    "import json\n",
    "\n",
    "def copy_notebook(source, destination):\n",
    "    print(source, destination)\n",
    "    new_file = {}\n",
    "    \n",
    "    read = open(source, 'r')\n",
    "    json_data = json.load(read)\n",
    "    read.close()\n",
    "    \n",
    "    # print(json_data)\n",
    "    \n",
    "    for k in json_data.keys():\n",
    "        if k == 'cells':\n",
    "            new_file[k] = []\n",
    "            for cell in json_data[k]:\n",
    "                if cell['cell_type'] == 'code':\n",
    "                    if cell['source'][0].find('DELETE') == -1:\n",
    "                        new_file[k].append(cell)\n",
    "                    else:\n",
    "                        new_cell = cell.copy()\n",
    "                        new_cell['source'] = ['# Up to you!\\n', '\\n']\n",
    "                        new_file[k].append(new_cell)\n",
    "                else:\n",
    "                    new_file[k].append(cell)\n",
    "        else:\n",
    "            new_file[k] = json_data[k]\n",
    "    \n",
    "    write = open(destination, 'w')\n",
    "    json.dump(new_file, write)\n",
    "    write.close()\n"
   ]
  },
  {
   "cell_type": "code",
   "execution_count": 5,
   "metadata": {},
   "outputs": [
    {
     "name": "stdout",
     "output_type": "stream",
     "text": [
      "['.ipynb_checkpoints', '1 - Working with a venv.ipynb', '2 - Exercises Advanced Programming Topics.ipynb', '3.1 - Exercises Regex.ipynb', '3.2 - Exercise scraping bookstore.ipynb', '3.3 - Exercise scraping minifig.ipynb', '4.1 NumPy Basic.ipynb', '4.2 Numpy Extra.ipynb', '4.3 Matplotlib.ipynb', '5.1 - Flights.ipynb', '5.2 - Kaggle.ipynb', '6.1 - Combine different types of data.ipynb', '6.2 - Reshape.ipynb', '6.3 - Crosstab.ipynb', '6.4 - DatasauRus.ipynb', '6.5 - Diamonds.ipynb', '6.6 - Correlation matrix and outliers.ipynb', 'archive.ics.uci.edu', 'files', 'images']\n"
     ]
    }
   ],
   "source": [
    "from os import listdir\n",
    "from os.path import isfile, join\n",
    "\n",
    "source = \"Exercises_solutions/\"\n",
    "destination = \"Exercises/\"\n",
    "\n",
    "files = listdir(source) # [f for f in listdir(mypath) if isfile(join(mypath, f))]\n",
    "\n",
    "print(files)"
   ]
  },
  {
   "cell_type": "code",
   "execution_count": 6,
   "metadata": {},
   "outputs": [
    {
     "name": "stdout",
     "output_type": "stream",
     "text": [
      "Exercises_solutions/1 - Working with a venv.ipynb Exercises/1 - Working with a venv.ipynb\n",
      "Exercises_solutions/2 - Exercises Advanced Programming Topics.ipynb Exercises/2 - Exercises Advanced Programming Topics.ipynb\n",
      "Exercises_solutions/3.1 - Exercises Regex.ipynb Exercises/3.1 - Exercises Regex.ipynb\n",
      "Exercises_solutions/3.2 - Exercise scraping bookstore.ipynb Exercises/3.2 - Exercise scraping bookstore.ipynb\n",
      "Exercises_solutions/3.3 - Exercise scraping minifig.ipynb Exercises/3.3 - Exercise scraping minifig.ipynb\n",
      "Exercises_solutions/4.1 NumPy Basic.ipynb Exercises/4.1 NumPy Basic.ipynb\n",
      "Exercises_solutions/4.2 Numpy Extra.ipynb Exercises/4.2 Numpy Extra.ipynb\n",
      "Exercises_solutions/4.3 Matplotlib.ipynb Exercises/4.3 Matplotlib.ipynb\n",
      "Exercises_solutions/5.1 - Flights.ipynb Exercises/5.1 - Flights.ipynb\n",
      "Exercises_solutions/5.2 - Kaggle.ipynb Exercises/5.2 - Kaggle.ipynb\n",
      "Exercises_solutions/6.1 - Combine different types of data.ipynb Exercises/6.1 - Combine different types of data.ipynb\n",
      "Exercises_solutions/6.2 - Reshape.ipynb Exercises/6.2 - Reshape.ipynb\n",
      "Exercises_solutions/6.3 - Crosstab.ipynb Exercises/6.3 - Crosstab.ipynb\n",
      "Exercises_solutions/6.4 - DatasauRus.ipynb Exercises/6.4 - DatasauRus.ipynb\n",
      "Exercises_solutions/6.5 - Diamonds.ipynb Exercises/6.5 - Diamonds.ipynb\n",
      "Exercises_solutions/6.6 - Correlation matrix and outliers.ipynb Exercises/6.6 - Correlation matrix and outliers.ipynb\n"
     ]
    }
   ],
   "source": [
    "import shutil\n",
    "\n",
    "for f in files:\n",
    "    if f[-6:] == \".ipynb\":\n",
    "        copy_notebook(join(source, f), join(destination, f))\n",
    "    else:\n",
    "        if isfile(join(source, f)):\n",
    "            shutil.copy(join(source, f), destination)\n",
    "            #  print(f)\n",
    "        else:\n",
    "            shutil.copytree(join(source, f), join(destination, f))\n",
    "            # pass\n",
    "            "
   ]
  }
 ],
 "metadata": {
  "kernelspec": {
   "display_name": "venv",
   "language": "python",
   "name": "python3"
  },
  "language_info": {
   "codemirror_mode": {
    "name": "ipython",
    "version": 3
   },
   "file_extension": ".py",
   "mimetype": "text/x-python",
   "name": "python",
   "nbconvert_exporter": "python",
   "pygments_lexer": "ipython3",
   "version": "3.11.5"
  },
  "orig_nbformat": 4
 },
 "nbformat": 4,
 "nbformat_minor": 2
}
