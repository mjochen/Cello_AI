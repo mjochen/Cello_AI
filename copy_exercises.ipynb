{
 "cells": [
  {
   "cell_type": "code",
   "execution_count": 1,
   "metadata": {},
   "outputs": [],
   "source": [
    "!pip freeze > requirements.txt"
   ]
  },
  {
   "cell_type": "code",
   "execution_count": 2,
   "metadata": {},
   "outputs": [],
   "source": [
    "import json\n",
    "\n",
    "def copy_notebook(source, destination):\n",
    "    print(source, destination)\n",
    "    new_file = {}\n",
    "    \n",
    "    read = open(source, 'r')\n",
    "    json_data = json.load(read)\n",
    "    read.close()\n",
    "    \n",
    "    # print(json_data)\n",
    "    \n",
    "    for k in json_data.keys():\n",
    "        if k == 'cells':\n",
    "            new_file[k] = []\n",
    "            for cell in json_data[k]:\n",
    "                if cell['cell_type'] == 'code':\n",
    "                    if cell['source'][0].find('DELETE') == -1:\n",
    "                        new_file[k].append(cell)\n",
    "                    else:\n",
    "                        new_cell = cell.copy()\n",
    "                        new_cell['source'] = ['# Up to you!\\n', '\\n']\n",
    "                        new_file[k].append(new_cell)\n",
    "                else:\n",
    "                    new_file[k].append(cell)\n",
    "        else:\n",
    "            new_file[k] = json_data[k]\n",
    "    \n",
    "    write = open(destination, 'w')\n",
    "    json.dump(new_file, write)\n",
    "    write.close()\n"
   ]
  },
  {
   "cell_type": "code",
   "execution_count": 3,
   "metadata": {},
   "outputs": [
    {
     "name": "stdout",
     "output_type": "stream",
     "text": [
      "['3.1 - Working with a venv.ipynb', '3.2 - Streamlit 101.ipynb', '3.3 - First streamlit.py', '4.1 - linear regression.ipynb', '4.2 - MPG model.ipynb', '4.3 - MPG app.py', '4.4 - titanic model.ipynb', '4.5 - titanic app (solved).py', '5.1 - Binary classification.ipynb', '5.2 - Install PyCaret.ipynb', '5.2 - Threshold tuning.ipynb', '5.3 - Metrics.ipynb', '5.4 - Multiclass classification.ipynb', '5.5 - PyCaret.ipynb', '6.1 - Bias variance tradeoff.ipynb', '6.2 - Model overview.ipynb', '6.3 - Diamonds modeling.ipynb', '6.4 - Winetrees.ipynb', '6.5.1 - Linear regressor and decision trees.ipynb', '6.5.2 - Random Forest.ipynb', '6.5.3 - Gradient boosting.ipynb', '6.5.4 - XGBoost.ipynb', '6.5.5 - Stacking.ipynb', '6.5.6 - Summary.ipynb', '6.5.7 - PyCaret.ipynb', '6.6 - Stacking using wine.ipynb', '6.7 - University ranking.ipynb', '7.1 - Tidy data.ipynb', '7.2 - Outlier detection in forest.ipynb', '7.3 - Diamonds.ipynb', '7.4 - MPG.ipynb', '7.5 - Bike-highways.ipynb', '7.6 - Bias.ipynb', '7.7 - Selection bias.ipynb', '7.8 - Titanic missing data.ipynb', '7.9 - Stop and frisk.ipynb', 'exports', 'files']\n"
     ]
    }
   ],
   "source": [
    "from os import listdir\n",
    "from os.path import isfile, join\n",
    "\n",
    "source = \"Exercises_solutions/\"\n",
    "destination = \"Exercises/\"\n",
    "\n",
    "files = listdir(source) # [f for f in listdir(mypath) if isfile(join(mypath, f))]\n",
    "\n",
    "print(files)"
   ]
  },
  {
   "cell_type": "code",
   "execution_count": 5,
   "metadata": {},
   "outputs": [
    {
     "name": "stdout",
     "output_type": "stream",
     "text": [
      "Exercises_solutions/3.1 - Working with a venv.ipynb Exercises/3.1 - Working with a venv.ipynb\n",
      "Exercises_solutions/3.2 - Streamlit 101.ipynb Exercises/3.2 - Streamlit 101.ipynb\n",
      "Exercises_solutions/4.1 - linear regression.ipynb Exercises/4.1 - linear regression.ipynb\n",
      "Exercises_solutions/4.2 - MPG model.ipynb Exercises/4.2 - MPG model.ipynb\n",
      "Exercises_solutions/4.4 - titanic model.ipynb Exercises/4.4 - titanic model.ipynb\n",
      "Exercises_solutions/5.1 - Binary classification.ipynb Exercises/5.1 - Binary classification.ipynb\n",
      "Exercises_solutions/5.2 - Install PyCaret.ipynb Exercises/5.2 - Install PyCaret.ipynb\n",
      "Exercises_solutions/5.2 - Threshold tuning.ipynb Exercises/5.2 - Threshold tuning.ipynb\n",
      "Exercises_solutions/5.3 - Metrics.ipynb Exercises/5.3 - Metrics.ipynb\n",
      "Exercises_solutions/5.4 - Multiclass classification.ipynb Exercises/5.4 - Multiclass classification.ipynb\n",
      "Exercises_solutions/5.5 - PyCaret.ipynb Exercises/5.5 - PyCaret.ipynb\n",
      "Exercises_solutions/6.1 - Bias variance tradeoff.ipynb Exercises/6.1 - Bias variance tradeoff.ipynb\n",
      "Exercises_solutions/6.2 - Model overview.ipynb Exercises/6.2 - Model overview.ipynb\n",
      "Exercises_solutions/6.3 - Diamonds modeling.ipynb Exercises/6.3 - Diamonds modeling.ipynb\n",
      "Exercises_solutions/6.4 - Winetrees.ipynb Exercises/6.4 - Winetrees.ipynb\n",
      "Exercises_solutions/6.5.1 - Linear regressor and decision trees.ipynb Exercises/6.5.1 - Linear regressor and decision trees.ipynb\n",
      "Exercises_solutions/6.5.2 - Random Forest.ipynb Exercises/6.5.2 - Random Forest.ipynb\n",
      "Exercises_solutions/6.5.3 - Gradient boosting.ipynb Exercises/6.5.3 - Gradient boosting.ipynb\n",
      "Exercises_solutions/6.5.4 - XGBoost.ipynb Exercises/6.5.4 - XGBoost.ipynb\n",
      "Exercises_solutions/6.5.5 - Stacking.ipynb Exercises/6.5.5 - Stacking.ipynb\n",
      "Exercises_solutions/6.5.6 - Summary.ipynb Exercises/6.5.6 - Summary.ipynb\n",
      "Exercises_solutions/6.5.7 - PyCaret.ipynb Exercises/6.5.7 - PyCaret.ipynb\n",
      "Exercises_solutions/6.6 - Stacking using wine.ipynb Exercises/6.6 - Stacking using wine.ipynb\n",
      "Exercises_solutions/6.7 - University ranking.ipynb Exercises/6.7 - University ranking.ipynb\n",
      "Exercises_solutions/7.1 - Tidy data.ipynb Exercises/7.1 - Tidy data.ipynb\n",
      "Exercises_solutions/7.2 - Outlier detection in forest.ipynb Exercises/7.2 - Outlier detection in forest.ipynb\n",
      "Exercises_solutions/7.3 - Diamonds.ipynb Exercises/7.3 - Diamonds.ipynb\n",
      "Exercises_solutions/7.4 - MPG.ipynb Exercises/7.4 - MPG.ipynb\n",
      "Exercises_solutions/7.5 - Bike-highways.ipynb Exercises/7.5 - Bike-highways.ipynb\n",
      "Exercises_solutions/7.6 - Bias.ipynb Exercises/7.6 - Bias.ipynb\n",
      "Exercises_solutions/7.7 - Selection bias.ipynb Exercises/7.7 - Selection bias.ipynb\n",
      "Exercises_solutions/7.8 - Titanic missing data.ipynb Exercises/7.8 - Titanic missing data.ipynb\n",
      "Exercises_solutions/7.9 - Stop and frisk.ipynb Exercises/7.9 - Stop and frisk.ipynb\n"
     ]
    }
   ],
   "source": [
    "import shutil\n",
    "\n",
    "for f in files:\n",
    "    if f[-6:] == \".ipynb\":\n",
    "        copy_notebook(join(source, f), join(destination, f))\n",
    "    else:\n",
    "        if isfile(join(source, f)):\n",
    "            shutil.copy(join(source, f), destination)\n",
    "            #  print(f)\n",
    "        else:\n",
    "            shutil.copytree(join(source, f), join(destination, f))\n",
    "            # pass\n",
    "            "
   ]
  }
 ],
 "metadata": {
  "kernelspec": {
   "display_name": "venv",
   "language": "python",
   "name": "python3"
  },
  "language_info": {
   "codemirror_mode": {
    "name": "ipython",
    "version": 3
   },
   "file_extension": ".py",
   "mimetype": "text/x-python",
   "name": "python",
   "nbconvert_exporter": "python",
   "pygments_lexer": "ipython3",
   "version": "3.12.5"
  },
  "orig_nbformat": 4
 },
 "nbformat": 4,
 "nbformat_minor": 2
}
