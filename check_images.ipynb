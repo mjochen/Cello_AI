{
 "cells": [
  {
   "cell_type": "markdown",
   "metadata": {},
   "source": [
    "Get a list of all files"
   ]
  },
  {
   "cell_type": "code",
   "execution_count": 1,
   "metadata": {},
   "outputs": [
    {
     "name": "stdout",
     "output_type": "stream",
     "text": [
      "['3.1 - Working with a venv.ipynb', '3.2 - Streamlit 101.ipynb', '3.3 - First streamlit.py', '4.1 - linear regression.ipynb', '4.2 - MPG model.ipynb', '4.3 - MPG app.py', '4.4 - titanic model.ipynb', '4.5 - titanic app (solved).py', '5.1 - Binary classification.ipynb', '5.2 - Install PyCaret.ipynb', '5.2 - Threshold tuning.ipynb', '5.3 - Metrics.ipynb', '5.4 - Multiclass classification.ipynb', '5.5 - PyCaret.ipynb', '6.1 - Bias variance tradeoff.ipynb', '6.2 - Model overview.ipynb', '6.3 - Diamonds modeling.ipynb', '6.4 - Winetrees.ipynb', '6.5.1 - Linear regressor and decision trees.ipynb', '6.5.2 - Random Forest.ipynb', '6.5.3 - Gradient boosting.ipynb', '6.5.4 - XGBoost.ipynb', '6.5.5 - Stacking.ipynb', '6.5.6 - Summary.ipynb', '6.5.7 - PyCaret.ipynb', '6.6 - Stacking using wine.ipynb', '6.7 - University ranking.ipynb', '7.1 - Tidy data.ipynb', '7.2 - Outlier detection in forest.ipynb', '7.3 - Diamonds.ipynb', '7.4 - MPG.ipynb', '7.5 - Bike-highways.ipynb', '7.6 - Bias.ipynb', '7.7 - Selection bias.ipynb', '7.8 - Titanic missing data.ipynb', '7.9 - Stop and frisk.ipynb', 'exports', 'files']\n"
     ]
    }
   ],
   "source": [
    "import json\n",
    "from os import listdir\n",
    "from os.path import isfile, join\n",
    "import re\n",
    "import shutil\n",
    "\n",
    "\n",
    "source = \"C:/Scripts/Cello_AI/Exercises_solutions/\"\n",
    "# source = \"C:/Scripts/Cloud AI course material/Exercises_solved/\"\n",
    "\n",
    "files = listdir(source) # [f for f in listdir(mypath) if isfile(join(mypath, f))]\n",
    "\n",
    "print(files)"
   ]
  },
  {
   "cell_type": "markdown",
   "metadata": {},
   "source": [
    "Function that looks for referenced files."
   ]
  },
  {
   "cell_type": "code",
   "execution_count": 2,
   "metadata": {},
   "outputs": [],
   "source": [
    "def check_images(filename: str):\n",
    "    print(filename)\n",
    "    if filename[-6:] == \".ipynb\":\n",
    "        read = open(filename, 'r')\n",
    "        json_data = json.load(read)\n",
    "        read.close()\n",
    "        \n",
    "        ret = []\n",
    "        for k in json_data.keys():\n",
    "            # print(k)\n",
    "            if k == 'cells':\n",
    "                for cell in json_data[k]:\n",
    "                    for line in cell['source']:\n",
    "                        matches = re.findall(r\"(files\\/[^\\.]*\\.[A-Za-z]{2,5})\", line)\n",
    "                        for match in matches:\n",
    "                            # ret.append( (match, filename) )\n",
    "                            ret.append( match )\n",
    "        return ret\n",
    "    else:\n",
    "        with open(filename, 'r') as file:\n",
    "            content = file.read()\n",
    "            matches = re.findall(r\"(files\\/[^\\.]*\\.[A-Za-z]{2,5})\", content)\n",
    "            return matches\n",
    "    \n"
   ]
  },
  {
   "cell_type": "markdown",
   "metadata": {},
   "source": [
    "Get a list of all referenced files."
   ]
  },
  {
   "cell_type": "code",
   "execution_count": 3,
   "metadata": {},
   "outputs": [
    {
     "name": "stdout",
     "output_type": "stream",
     "text": [
      "C:/Scripts/Cello_AI/Exercises_solutions/3.1 - Working with a venv.ipynb\n",
      "C:/Scripts/Cello_AI/Exercises_solutions/3.2 - Streamlit 101.ipynb\n",
      "C:/Scripts/Cello_AI/Exercises_solutions/4.1 - linear regression.ipynb\n",
      "C:/Scripts/Cello_AI/Exercises_solutions/4.2 - MPG model.ipynb\n",
      "C:/Scripts/Cello_AI/Exercises_solutions/4.4 - titanic model.ipynb\n",
      "C:/Scripts/Cello_AI/Exercises_solutions/5.1 - Binary classification.ipynb\n",
      "C:/Scripts/Cello_AI/Exercises_solutions/5.2 - Install PyCaret.ipynb\n",
      "C:/Scripts/Cello_AI/Exercises_solutions/5.2 - Threshold tuning.ipynb\n",
      "C:/Scripts/Cello_AI/Exercises_solutions/5.3 - Metrics.ipynb\n",
      "C:/Scripts/Cello_AI/Exercises_solutions/5.4 - Multiclass classification.ipynb\n",
      "C:/Scripts/Cello_AI/Exercises_solutions/5.5 - PyCaret.ipynb\n",
      "C:/Scripts/Cello_AI/Exercises_solutions/6.1 - Bias variance tradeoff.ipynb\n",
      "C:/Scripts/Cello_AI/Exercises_solutions/6.2 - Model overview.ipynb\n",
      "C:/Scripts/Cello_AI/Exercises_solutions/6.3 - Diamonds modeling.ipynb\n",
      "C:/Scripts/Cello_AI/Exercises_solutions/6.4 - Winetrees.ipynb\n",
      "C:/Scripts/Cello_AI/Exercises_solutions/6.5.1 - Linear regressor and decision trees.ipynb\n",
      "C:/Scripts/Cello_AI/Exercises_solutions/6.5.2 - Random Forest.ipynb\n",
      "C:/Scripts/Cello_AI/Exercises_solutions/6.5.3 - Gradient boosting.ipynb\n",
      "C:/Scripts/Cello_AI/Exercises_solutions/6.5.4 - XGBoost.ipynb\n",
      "C:/Scripts/Cello_AI/Exercises_solutions/6.5.5 - Stacking.ipynb\n",
      "C:/Scripts/Cello_AI/Exercises_solutions/6.5.6 - Summary.ipynb\n",
      "C:/Scripts/Cello_AI/Exercises_solutions/6.5.7 - PyCaret.ipynb\n",
      "C:/Scripts/Cello_AI/Exercises_solutions/6.6 - Stacking using wine.ipynb\n",
      "C:/Scripts/Cello_AI/Exercises_solutions/6.7 - University ranking.ipynb\n",
      "C:/Scripts/Cello_AI/Exercises_solutions/7.1 - Tidy data.ipynb\n",
      "C:/Scripts/Cello_AI/Exercises_solutions/7.2 - Outlier detection in forest.ipynb\n",
      "C:/Scripts/Cello_AI/Exercises_solutions/7.3 - Diamonds.ipynb\n",
      "C:/Scripts/Cello_AI/Exercises_solutions/7.4 - MPG.ipynb\n",
      "C:/Scripts/Cello_AI/Exercises_solutions/7.5 - Bike-highways.ipynb\n",
      "C:/Scripts/Cello_AI/Exercises_solutions/7.6 - Bias.ipynb\n",
      "C:/Scripts/Cello_AI/Exercises_solutions/7.7 - Selection bias.ipynb\n",
      "C:/Scripts/Cello_AI/Exercises_solutions/7.8 - Titanic missing data.ipynb\n",
      "C:/Scripts/Cello_AI/Exercises_solutions/7.9 - Stop and frisk.ipynb\n"
     ]
    }
   ],
   "source": [
    "referenced_files = []\n",
    "\n",
    "for f in files:\n",
    "    if f[-6:] == \".ipynb\" or f[-3:] == \".md\":\n",
    "        referenced_files += check_images(join(source, f))\n",
    "        # print(check_images(join(source, f)))\n",
    "        \n",
    "for i, f in enumerate(referenced_files):\n",
    "    if f.count(\"/\") > 1:\n",
    "        referenced_files[i] = \"/\".join(f.split(\"/\")[0:2])\n",
    "        # print(referenced_files[i])\n",
    "\n",
    "referenced_files = list(set(referenced_files))"
   ]
  },
  {
   "cell_type": "markdown",
   "metadata": {},
   "source": [
    "Compare with actual files"
   ]
  },
  {
   "cell_type": "code",
   "execution_count": 4,
   "metadata": {},
   "outputs": [
    {
     "name": "stdout",
     "output_type": "stream",
     "text": [
      "needed_not_present\n",
      "\n",
      "present_not_needed\n",
      "\n"
     ]
    }
   ],
   "source": [
    "\n",
    "actual_files = listdir(join(source,'files'))\n",
    "actual_files = [join('files', f).replace(\"\\\\\",\"/\") for f in actual_files]\n",
    "# print(actual_files)\n",
    "# print(referenced_files)\n",
    "\n",
    "\n",
    "needed_not_present = [f for f in referenced_files if f not in actual_files]\n",
    "present_not_needed = [f for f in actual_files if f not in referenced_files]\n",
    "\n",
    "print(\"needed_not_present\")\n",
    "print(*needed_not_present, sep=\"\\n\")\n",
    "print(\"present_not_needed\")\n",
    "print(*present_not_needed, sep=\"\\n\")"
   ]
  }
 ],
 "metadata": {
  "kernelspec": {
   "display_name": "venv",
   "language": "python",
   "name": "python3"
  },
  "language_info": {
   "codemirror_mode": {
    "name": "ipython",
    "version": 3
   },
   "file_extension": ".py",
   "mimetype": "text/x-python",
   "name": "python",
   "nbconvert_exporter": "python",
   "pygments_lexer": "ipython3",
   "version": "3.12.5"
  },
  "orig_nbformat": 4
 },
 "nbformat": 4,
 "nbformat_minor": 2
}
