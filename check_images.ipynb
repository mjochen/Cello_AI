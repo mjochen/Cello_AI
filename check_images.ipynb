{
 "cells": [
  {
   "cell_type": "markdown",
   "metadata": {},
   "source": [
    "Get a list of all files"
   ]
  },
  {
   "cell_type": "code",
   "execution_count": 10,
   "metadata": {},
   "outputs": [
    {
     "name": "stdout",
     "output_type": "stream",
     "text": [
      "['3.1 - Working with a venv.ipynb', '3.2 - Streamlit 101.ipynb', '3.3 - First streamlit.py', '4.1 - linear regression.ipynb', '4.2 - MPG model.ipynb', '4.3 - MPG app.py', '4.4 - titanic model.ipynb', '4.5 - titanic app (solved).py', '5.1 - Binary classification.ipynb', '5.2 - Install PyCaret.ipynb', '5.2 - Threshold tuning.ipynb', '5.3 - Multiclass classification.ipynb', '5.4 - Install PyCaret.ipynb', '5.5 - PyCaret.ipynb', '6.1 - Bias variance tradeoff.ipynb', '6.2 - Model overview.ipynb', '6.3 - Diamonds modeling.ipynb', '6.4 - Winetrees.ipynb', '6.5.1 - Linear regressor and decision trees.ipynb', '6.5.2 - Random Forest.ipynb', '6.5.3 - Gradient boosting.ipynb', '6.5.4 - XGBoost.ipynb', '6.5.5 - Stacking.ipynb', '6.5.6 - Summary.ipynb', '6.5.7 - PyCaret.ipynb', '6.6 - Stacking using wine.ipynb', '7.X - Bias.ipynb', '7.X - Bike-highways.ipynb', '7.X - PyCaret for titanic.ipynb', '7.X Cars pandas example.ipynb', '7.X Diamonds_solution.ipynb', '7.X Skewed data.ipynb', 'dump.ipynb', 'exports', 'files', 'logs.log', 'my_best_pipeline.pkl', 'X.1 - model quality.ipynb']\n"
     ]
    }
   ],
   "source": [
    "import json\n",
    "from os import listdir\n",
    "from os.path import isfile, join\n",
    "import re\n",
    "import shutil\n",
    "\n",
    "\n",
    "source = \"C:/Scripts/Cello_AI/Exercises_solutions/\"\n",
    "# source = \"C:/Scripts/Cloud AI course material/Exercises_solved/\"\n",
    "\n",
    "files = listdir(source) # [f for f in listdir(mypath) if isfile(join(mypath, f))]\n",
    "\n",
    "print(files)"
   ]
  },
  {
   "cell_type": "markdown",
   "metadata": {},
   "source": [
    "Function that looks for referenced files."
   ]
  },
  {
   "cell_type": "code",
   "execution_count": null,
   "metadata": {},
   "outputs": [],
   "source": [
    "def check_images(filename: str):\n",
    "    print(filename)\n",
    "    if filename[-6:] == \".ipynb\":\n",
    "        read = open(filename, 'r')\n",
    "        json_data = json.load(read)\n",
    "        read.close()\n",
    "        \n",
    "        ret = []\n",
    "        for k in json_data.keys():\n",
    "            # print(k)\n",
    "            if k == 'cells':\n",
    "                for cell in json_data[k]:\n",
    "                    for line in cell['source']:\n",
    "                        matches = re.findall(r\"(files\\/[^\\.]*\\.[A-Za-z]{2,5})\", line)\n",
    "                        for match in matches:\n",
    "                            # ret.append( (match, filename) )\n",
    "                            ret.append( match )\n",
    "        return ret\n",
    "    else:\n",
    "        with open(filename, 'r') as file:\n",
    "            content = file.read()\n",
    "            matches = re.findall(r\"(files\\/[^\\.]*\\.[A-Za-z]{2,5})\", content)\n",
    "            return matches\n",
    "    \n"
   ]
  },
  {
   "cell_type": "markdown",
   "metadata": {},
   "source": [
    "Get a list of all referenced files."
   ]
  },
  {
   "cell_type": "code",
   "execution_count": 14,
   "metadata": {},
   "outputs": [
    {
     "name": "stdout",
     "output_type": "stream",
     "text": [
      "C:/Scripts/Cello_AI/Exercises_solutions/3.1 - Working with a venv.ipynb\n",
      "['files/requirements.txt', 'files/requirements.txt']\n",
      "C:/Scripts/Cello_AI/Exercises_solutions/3.2 - Streamlit 101.ipynb\n",
      "['files/titanic3.xlsx']\n",
      "C:/Scripts/Cello_AI/Exercises_solutions/4.1 - linear regression.ipynb\n",
      "['files/mpg.csv', 'files/2023-04-11-19-26-30.png']\n",
      "C:/Scripts/Cello_AI/Exercises_solutions/4.2 - MPG model.ipynb\n",
      "['files/mpg.csv', 'files/mpg_model.pkl', 'files/mpg_model.pkl']\n",
      "C:/Scripts/Cello_AI/Exercises_solutions/4.4 - titanic model.ipynb\n",
      "['files/titanic3.xlsx', 'files/titanic_model.pkl']\n",
      "C:/Scripts/Cello_AI/Exercises_solutions/5.1 - Binary classification.ipynb\n",
      "[]\n",
      "C:/Scripts/Cello_AI/Exercises_solutions/5.2 - Install PyCaret.ipynb\n",
      "[]\n",
      "C:/Scripts/Cello_AI/Exercises_solutions/5.2 - Threshold tuning.ipynb\n",
      "[]\n",
      "C:/Scripts/Cello_AI/Exercises_solutions/5.3 - Multiclass classification.ipynb\n",
      "[]\n",
      "C:/Scripts/Cello_AI/Exercises_solutions/5.4 - Install PyCaret.ipynb\n",
      "[]\n",
      "C:/Scripts/Cello_AI/Exercises_solutions/5.5 - PyCaret.ipynb\n",
      "['files/heart.csv']\n",
      "C:/Scripts/Cello_AI/Exercises_solutions/6.1 - Bias variance tradeoff.ipynb\n",
      "[]\n",
      "C:/Scripts/Cello_AI/Exercises_solutions/6.2 - Model overview.ipynb\n",
      "[]\n",
      "C:/Scripts/Cello_AI/Exercises_solutions/6.3 - Diamonds modeling.ipynb\n",
      "['files/diamonds.csv']\n",
      "C:/Scripts/Cello_AI/Exercises_solutions/6.4 - Winetrees.ipynb\n",
      "[]\n",
      "C:/Scripts/Cello_AI/Exercises_solutions/6.5.1 - Linear regressor and decision trees.ipynb\n",
      "[]\n",
      "C:/Scripts/Cello_AI/Exercises_solutions/6.5.2 - Random Forest.ipynb\n",
      "['files/2025-05-09-19-20-34.png']\n",
      "C:/Scripts/Cello_AI/Exercises_solutions/6.5.3 - Gradient boosting.ipynb\n",
      "['files/2025-05-10-11-02-54.png', 'files/2025-05-10-11-34-02.png']\n",
      "C:/Scripts/Cello_AI/Exercises_solutions/6.5.4 - XGBoost.ipynb\n",
      "['files/2025-05-10-12-00-43.png']\n",
      "C:/Scripts/Cello_AI/Exercises_solutions/6.5.5 - Stacking.ipynb\n",
      "['files/2025-05-10-13-28-53.png']\n",
      "C:/Scripts/Cello_AI/Exercises_solutions/6.5.6 - Summary.ipynb\n",
      "[]\n",
      "C:/Scripts/Cello_AI/Exercises_solutions/6.5.7 - PyCaret.ipynb\n",
      "[]\n",
      "C:/Scripts/Cello_AI/Exercises_solutions/6.6 - Stacking using wine.ipynb\n",
      "[]\n",
      "C:/Scripts/Cello_AI/Exercises_solutions/7.X - Bias.ipynb\n",
      "['files/adult-all.csv', 'files/adult-all.csv', 'files/adult-all.csv']\n",
      "C:/Scripts/Cello_AI/Exercises_solutions/7.X - Bike-highways.ipynb\n",
      "['files/2023-10-02-23-00-11.png', 'files/bike_counters_data/Measured data-nl-Geel_FMN GV 21 Geel.csv', 'files/2023-10-02-23-26-39.png', 'files/2023-10-03-19-20-09.png', 'files/2023-10-03-10-38-14.png']\n",
      "C:/Scripts/Cello_AI/Exercises_solutions/7.X - PyCaret for titanic.ipynb\n",
      "['files/titanic3.xlsx']\n",
      "C:/Scripts/Cello_AI/Exercises_solutions/7.X Cars pandas example.ipynb\n",
      "['files/mpg.csv', 'files/mpg.csv']\n",
      "C:/Scripts/Cello_AI/Exercises_solutions/7.X Diamonds_solution.ipynb\n",
      "['files/diamonds.csv', 'files/2022-08-30-13-39-46.png', 'files/2022-08-31-15-35-41.png']\n",
      "C:/Scripts/Cello_AI/Exercises_solutions/7.X Skewed data.ipynb\n",
      "['files/2023-10-25-13-13-56.png', 'files/datasets.pickl']\n",
      "C:/Scripts/Cello_AI/Exercises_solutions/dump.ipynb\n",
      "[]\n",
      "C:/Scripts/Cello_AI/Exercises_solutions/X.1 - model quality.ipynb\n",
      "['files/2023-06-14-16-11-45.png', 'files/confusion_matrix_explained.png', 'files/2023-06-14-16-27-07.png', 'files/2023-06-15-09-35-37.png', 'files/2023-06-15-09-36-12.png', 'files/2023-06-15-09-50-04.png']\n"
     ]
    }
   ],
   "source": [
    "referenced_files = []\n",
    "\n",
    "for f in files:\n",
    "    if f[-6:] == \".ipynb\" or f[-3:] == \".md\":\n",
    "        # referenced_files += check_images(join(source, f))\n",
    "        print(check_images(join(source, f)))\n",
    "        \n",
    "for i, f in enumerate(referenced_files):\n",
    "    if f.count(\"/\") > 1:\n",
    "        referenced_files[i] = \"/\".join(f.split(\"/\")[0:2])\n",
    "        # print(referenced_files[i])\n",
    "\n",
    "referenced_files = list(set(referenced_files))"
   ]
  },
  {
   "cell_type": "markdown",
   "metadata": {},
   "source": [
    "Compare with actual files"
   ]
  },
  {
   "cell_type": "code",
   "execution_count": 13,
   "metadata": {},
   "outputs": [
    {
     "name": "stdout",
     "output_type": "stream",
     "text": [
      "needed_not_present\n",
      "files/datasets.pickl\n",
      "present_not_needed\n",
      "\n"
     ]
    }
   ],
   "source": [
    "\n",
    "actual_files = listdir(join(source,'files'))\n",
    "actual_files = [join('files', f).replace(\"\\\\\",\"/\") for f in actual_files]\n",
    "# print(actual_files)\n",
    "# print(referenced_files)\n",
    "\n",
    "\n",
    "needed_not_present = [f for f in referenced_files if f not in actual_files]\n",
    "present_not_needed = [f for f in actual_files if f not in referenced_files]\n",
    "\n",
    "print(\"needed_not_present\")\n",
    "print(*needed_not_present, sep=\"\\n\")\n",
    "print(\"present_not_needed\")\n",
    "print(*present_not_needed, sep=\"\\n\")"
   ]
  }
 ],
 "metadata": {
  "kernelspec": {
   "display_name": "venv",
   "language": "python",
   "name": "python3"
  },
  "language_info": {
   "codemirror_mode": {
    "name": "ipython",
    "version": 3
   },
   "file_extension": ".py",
   "mimetype": "text/x-python",
   "name": "python",
   "nbconvert_exporter": "python",
   "pygments_lexer": "ipython3",
   "version": "3.12.5"
  },
  "orig_nbformat": 4
 },
 "nbformat": 4,
 "nbformat_minor": 2
}
