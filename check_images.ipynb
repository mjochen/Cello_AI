{
 "cells": [
  {
   "cell_type": "markdown",
   "metadata": {},
   "source": [
    "Get a list of all files"
   ]
  },
  {
   "cell_type": "code",
   "execution_count": null,
   "metadata": {},
   "outputs": [],
   "source": [
    "import json\n",
    "from os import listdir\n",
    "from os.path import isfile, join\n",
    "import re\n",
    "import shutil\n",
    "\n",
    "\n",
    "source = \"C:/Scripts/Cello_AI/Exercises_solutions/\"\n",
    "# source = \"C:/Scripts/Cloud AI course material/Exercises_solved/\"\n",
    "\n",
    "files = listdir(source) # [f for f in listdir(mypath) if isfile(join(mypath, f))]\n",
    "\n",
    "print(files)"
   ]
  },
  {
   "cell_type": "markdown",
   "metadata": {},
   "source": [
    "Function that looks for referenced files."
   ]
  },
  {
   "cell_type": "code",
   "execution_count": null,
   "metadata": {},
   "outputs": [],
   "source": [
    "def check_images(filename: str):\n",
    "    print(filename)\n",
    "    if filename[-6:] == \".ipynb\":\n",
    "        read = open(filename, 'r')\n",
    "        json_data = json.load(read)\n",
    "        read.close()\n",
    "        \n",
    "        ret = []\n",
    "        for k in json_data.keys():\n",
    "            # print(k)\n",
    "            if k == 'cells':\n",
    "                for cell in json_data[k]:\n",
    "                    for line in cell['source']:\n",
    "                        matches = re.findall(r\"(files\\/[^\\.]*\\.[A-Za-z]{2,5})\", line)\n",
    "                        for match in matches:\n",
    "                            # ret.append( (match, filename) )\n",
    "                            ret.append( match )\n",
    "        return ret\n",
    "    else:\n",
    "        with open(filename, 'r') as file:\n",
    "            content = file.read()\n",
    "            matches = re.findall(r\"(files\\/[^\\.]*\\.[A-Za-z]{2,5})\", content)\n",
    "            return matches\n",
    "    \n"
   ]
  },
  {
   "cell_type": "markdown",
   "metadata": {},
   "source": [
    "Get a list of all referenced files."
   ]
  },
  {
   "cell_type": "code",
   "execution_count": null,
   "metadata": {},
   "outputs": [],
   "source": [
    "referenced_files = []\n",
    "\n",
    "for f in files:\n",
    "    if f[-6:] == \".ipynb\" or f[-3:] == \".md\":\n",
    "        referenced_files += check_images(join(source, f))\n",
    "        # print(check_images(join(source, f)))\n",
    "        \n",
    "for i, f in enumerate(referenced_files):\n",
    "    if f.count(\"/\") > 1:\n",
    "        referenced_files[i] = \"/\".join(f.split(\"/\")[0:2])\n",
    "        # print(referenced_files[i])\n",
    "\n",
    "referenced_files = list(set(referenced_files))"
   ]
  },
  {
   "cell_type": "markdown",
   "metadata": {},
   "source": [
    "Compare with actual files"
   ]
  },
  {
   "cell_type": "code",
   "execution_count": null,
   "metadata": {},
   "outputs": [],
   "source": [
    "\n",
    "actual_files = listdir(join(source,'files'))\n",
    "actual_files = [join('files', f).replace(\"\\\\\",\"/\") for f in actual_files]\n",
    "# print(actual_files)\n",
    "# print(referenced_files)\n",
    "\n",
    "\n",
    "needed_not_present = [f for f in referenced_files if f not in actual_files]\n",
    "present_not_needed = [f for f in actual_files if f not in referenced_files]\n",
    "\n",
    "print(\"needed_not_present\")\n",
    "print(*needed_not_present, sep=\"\\n\")\n",
    "print(\"present_not_needed\")\n",
    "print(*present_not_needed, sep=\"\\n\")"
   ]
  }
 ],
 "metadata": {
  "kernelspec": {
   "display_name": "venv",
   "language": "python",
   "name": "python3"
  },
  "language_info": {
   "codemirror_mode": {
    "name": "ipython",
    "version": 3
   },
   "file_extension": ".py",
   "mimetype": "text/x-python",
   "name": "python",
   "nbconvert_exporter": "python",
   "pygments_lexer": "ipython3",
   "version": "3.12.5"
  },
  "orig_nbformat": 4
 },
 "nbformat": 4,
 "nbformat_minor": 2
}
